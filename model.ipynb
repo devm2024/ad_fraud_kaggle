{
 "cells": [
  {
   "cell_type": "code",
   "execution_count": 1,
   "metadata": {},
   "outputs": [],
   "source": [
    "import pandas as pd\n",
    "import sys\n",
    "import numpy as np\n",
    "import gc\n",
    "#gc.collect()"
   ]
  },
  {
   "cell_type": "code",
   "execution_count": 2,
   "metadata": {
    "collapsed": true
   },
   "outputs": [],
   "source": [
    "dtypes = {\n",
    "        'ip'            : 'uint32',\n",
    "        'app'           : 'uint16',\n",
    "        'device'        : 'uint16',\n",
    "        'os'            : 'uint16',\n",
    "        'channel'       : 'uint16',\n",
    "        'is_attributed' : 'uint8',\n",
    "        'click_id'      : 'uint32'\n",
    "        }"
   ]
  },
  {
   "cell_type": "code",
   "execution_count": 3,
   "metadata": {
    "collapsed": true
   },
   "outputs": [],
   "source": [
    "test_df = pd.read_csv('test.csv',  dtype=dtypes)"
   ]
  },
  {
   "cell_type": "code",
   "execution_count": 4,
   "metadata": {
    "collapsed": true
   },
   "outputs": [],
   "source": [
    "train_df = pd.read_csv(\"train.csv\", skiprows=range(1,140003891), dtype=dtypes, usecols=['ip','app','device','os', 'channel', 'click_time', 'is_attributed'])"
   ]
  },
  {
   "cell_type": "code",
   "execution_count": 5,
   "metadata": {},
   "outputs": [
    {
     "data": {
      "text/html": [
       "<div>\n",
       "<style>\n",
       "    .dataframe thead tr:only-child th {\n",
       "        text-align: right;\n",
       "    }\n",
       "\n",
       "    .dataframe thead th {\n",
       "        text-align: left;\n",
       "    }\n",
       "\n",
       "    .dataframe tbody tr th {\n",
       "        vertical-align: top;\n",
       "    }\n",
       "</style>\n",
       "<table border=\"1\" class=\"dataframe\">\n",
       "  <thead>\n",
       "    <tr style=\"text-align: right;\">\n",
       "      <th></th>\n",
       "      <th>ip</th>\n",
       "      <th>app</th>\n",
       "      <th>device</th>\n",
       "      <th>os</th>\n",
       "      <th>channel</th>\n",
       "      <th>click_time</th>\n",
       "      <th>is_attributed</th>\n",
       "    </tr>\n",
       "  </thead>\n",
       "  <tbody>\n",
       "    <tr>\n",
       "      <th>0</th>\n",
       "      <td>17663</td>\n",
       "      <td>26</td>\n",
       "      <td>1</td>\n",
       "      <td>19</td>\n",
       "      <td>266</td>\n",
       "      <td>2017-11-09 02:33:37</td>\n",
       "      <td>0</td>\n",
       "    </tr>\n",
       "    <tr>\n",
       "      <th>1</th>\n",
       "      <td>8720</td>\n",
       "      <td>11</td>\n",
       "      <td>1</td>\n",
       "      <td>47</td>\n",
       "      <td>325</td>\n",
       "      <td>2017-11-09 02:33:37</td>\n",
       "      <td>0</td>\n",
       "    </tr>\n",
       "    <tr>\n",
       "      <th>2</th>\n",
       "      <td>118229</td>\n",
       "      <td>2</td>\n",
       "      <td>1</td>\n",
       "      <td>53</td>\n",
       "      <td>477</td>\n",
       "      <td>2017-11-09 02:33:37</td>\n",
       "      <td>0</td>\n",
       "    </tr>\n",
       "    <tr>\n",
       "      <th>3</th>\n",
       "      <td>81606</td>\n",
       "      <td>2</td>\n",
       "      <td>1</td>\n",
       "      <td>19</td>\n",
       "      <td>237</td>\n",
       "      <td>2017-11-09 02:33:37</td>\n",
       "      <td>0</td>\n",
       "    </tr>\n",
       "    <tr>\n",
       "      <th>4</th>\n",
       "      <td>43068</td>\n",
       "      <td>3</td>\n",
       "      <td>1</td>\n",
       "      <td>13</td>\n",
       "      <td>280</td>\n",
       "      <td>2017-11-09 02:33:37</td>\n",
       "      <td>0</td>\n",
       "    </tr>\n",
       "  </tbody>\n",
       "</table>\n",
       "</div>"
      ],
      "text/plain": [
       "       ip  app  device  os  channel           click_time  is_attributed\n",
       "0   17663   26       1  19      266  2017-11-09 02:33:37              0\n",
       "1    8720   11       1  47      325  2017-11-09 02:33:37              0\n",
       "2  118229    2       1  53      477  2017-11-09 02:33:37              0\n",
       "3   81606    2       1  19      237  2017-11-09 02:33:37              0\n",
       "4   43068    3       1  13      280  2017-11-09 02:33:37              0"
      ]
     },
     "execution_count": 5,
     "metadata": {},
     "output_type": "execute_result"
    }
   ],
   "source": [
    "train_df.head()"
   ]
  },
  {
   "cell_type": "code",
   "execution_count": null,
   "metadata": {
    "collapsed": true
   },
   "outputs": [],
   "source": []
  },
  {
   "cell_type": "code",
   "execution_count": 6,
   "metadata": {
    "collapsed": true
   },
   "outputs": [],
   "source": [
    "def get_date(x):\n",
    "    td = str(x).strip().split(' ')\n",
    "    if len(td)>0:\n",
    "        return td[0]\n",
    "def get_time(x):\n",
    "    td = str(x).strip().split(' ')\n",
    "    if len(td)>1:\n",
    "        return td[1]\n",
    "def get_hour(x):\n",
    "    td = str(x).strip().split(':')\n",
    "    if len(td)>0:\n",
    "        return td[0]\n",
    "\n",
    "train_df['time']=train_df.click_time.apply(get_time)\n",
    "train_df['hour']=train_df.time.apply(get_hour)\n",
    "test_df['time']=test_df.click_time.apply(get_time)\n",
    "test_df['hour']=test_df.time.apply(get_hour)"
   ]
  },
  {
   "cell_type": "code",
   "execution_count": 7,
   "metadata": {},
   "outputs": [
    {
     "data": {
      "text/html": [
       "<div>\n",
       "<style>\n",
       "    .dataframe thead tr:only-child th {\n",
       "        text-align: right;\n",
       "    }\n",
       "\n",
       "    .dataframe thead th {\n",
       "        text-align: left;\n",
       "    }\n",
       "\n",
       "    .dataframe tbody tr th {\n",
       "        vertical-align: top;\n",
       "    }\n",
       "</style>\n",
       "<table border=\"1\" class=\"dataframe\">\n",
       "  <thead>\n",
       "    <tr style=\"text-align: right;\">\n",
       "      <th></th>\n",
       "      <th>click_id</th>\n",
       "      <th>ip</th>\n",
       "      <th>app</th>\n",
       "      <th>device</th>\n",
       "      <th>os</th>\n",
       "      <th>channel</th>\n",
       "      <th>click_time</th>\n",
       "      <th>time</th>\n",
       "      <th>hour</th>\n",
       "    </tr>\n",
       "  </thead>\n",
       "  <tbody>\n",
       "    <tr>\n",
       "      <th>0</th>\n",
       "      <td>0</td>\n",
       "      <td>5744</td>\n",
       "      <td>9</td>\n",
       "      <td>1</td>\n",
       "      <td>3</td>\n",
       "      <td>107</td>\n",
       "      <td>2017-11-10 04:00:00</td>\n",
       "      <td>04:00:00</td>\n",
       "      <td>04</td>\n",
       "    </tr>\n",
       "    <tr>\n",
       "      <th>1</th>\n",
       "      <td>1</td>\n",
       "      <td>119901</td>\n",
       "      <td>9</td>\n",
       "      <td>1</td>\n",
       "      <td>3</td>\n",
       "      <td>466</td>\n",
       "      <td>2017-11-10 04:00:00</td>\n",
       "      <td>04:00:00</td>\n",
       "      <td>04</td>\n",
       "    </tr>\n",
       "    <tr>\n",
       "      <th>2</th>\n",
       "      <td>2</td>\n",
       "      <td>72287</td>\n",
       "      <td>21</td>\n",
       "      <td>1</td>\n",
       "      <td>19</td>\n",
       "      <td>128</td>\n",
       "      <td>2017-11-10 04:00:00</td>\n",
       "      <td>04:00:00</td>\n",
       "      <td>04</td>\n",
       "    </tr>\n",
       "    <tr>\n",
       "      <th>3</th>\n",
       "      <td>3</td>\n",
       "      <td>78477</td>\n",
       "      <td>15</td>\n",
       "      <td>1</td>\n",
       "      <td>13</td>\n",
       "      <td>111</td>\n",
       "      <td>2017-11-10 04:00:00</td>\n",
       "      <td>04:00:00</td>\n",
       "      <td>04</td>\n",
       "    </tr>\n",
       "    <tr>\n",
       "      <th>4</th>\n",
       "      <td>4</td>\n",
       "      <td>123080</td>\n",
       "      <td>12</td>\n",
       "      <td>1</td>\n",
       "      <td>13</td>\n",
       "      <td>328</td>\n",
       "      <td>2017-11-10 04:00:00</td>\n",
       "      <td>04:00:00</td>\n",
       "      <td>04</td>\n",
       "    </tr>\n",
       "  </tbody>\n",
       "</table>\n",
       "</div>"
      ],
      "text/plain": [
       "   click_id      ip  app  device  os  channel           click_time      time  \\\n",
       "0         0    5744    9       1   3      107  2017-11-10 04:00:00  04:00:00   \n",
       "1         1  119901    9       1   3      466  2017-11-10 04:00:00  04:00:00   \n",
       "2         2   72287   21       1  19      128  2017-11-10 04:00:00  04:00:00   \n",
       "3         3   78477   15       1  13      111  2017-11-10 04:00:00  04:00:00   \n",
       "4         4  123080   12       1  13      328  2017-11-10 04:00:00  04:00:00   \n",
       "\n",
       "  hour  \n",
       "0   04  \n",
       "1   04  \n",
       "2   04  \n",
       "3   04  \n",
       "4   04  "
      ]
     },
     "execution_count": 7,
     "metadata": {},
     "output_type": "execute_result"
    }
   ],
   "source": [
    "test_df.head()"
   ]
  },
  {
   "cell_type": "code",
   "execution_count": 8,
   "metadata": {
    "collapsed": true
   },
   "outputs": [],
   "source": [
    "train_df.hour = train_df.hour.astype(int)\n",
    "test_df.hour = test_df.hour.astype(int)"
   ]
  },
  {
   "cell_type": "code",
   "execution_count": 9,
   "metadata": {
    "collapsed": true
   },
   "outputs": [],
   "source": [
    "train_df = train_df.drop(['click_time','time'], axis=1)\n",
    "test_df = test_df.drop(['click_time','time'], axis=1)"
   ]
  },
  {
   "cell_type": "code",
   "execution_count": 10,
   "metadata": {},
   "outputs": [
    {
     "data": {
      "text/plain": [
       "(array([ 2,  3,  4,  5,  6,  7,  8,  9, 10, 11, 12, 13, 14, 15, 16]),\n",
       " array([ 4,  5,  6,  9, 10, 11, 13, 14, 15]))"
      ]
     },
     "execution_count": 10,
     "metadata": {},
     "output_type": "execute_result"
    }
   ],
   "source": [
    "train_df.hour.unique(), test_df.hour.unique()"
   ]
  },
  {
   "cell_type": "code",
   "execution_count": 11,
   "metadata": {
    "collapsed": true
   },
   "outputs": [],
   "source": [
    "def reg_target_encoding(train, test, col, target='is_attributed'):\n",
    "    \"\"\" Computes regularize mean encoding.\n",
    "    Inputs:\n",
    "       train: training dataframe\n",
    "    \"\"\"\n",
    "    \n",
    "    new_col_name='%s_count_enc'%col \n",
    "    \n",
    "    \n",
    "    temp = train.groupby(col)[target].count()\n",
    "    train[new_col_name]= train[col].map(temp)\n",
    "    test[new_col_name]= test[col].map(temp)\n",
    "    global_mean = train[target].count()\n",
    "    train[new_col_name] = train[new_col_name].fillna(global_mean)\n",
    "    test[new_col_name] = test[new_col_name].fillna(global_mean)\n",
    "\n",
    "reg_target_encoding(train_df,test_df, col = \"ip\")\n",
    "reg_target_encoding(train_df,test_df, col = \"app\")\n",
    "reg_target_encoding(train_df,test_df, col = \"device\")\n",
    "reg_target_encoding(train_df,test_df, col = \"os\")\n",
    "reg_target_encoding(train_df,test_df, col = \"hour\")\n",
    "reg_target_encoding(train_df,test_df, col = \"channel\")"
   ]
  },
  {
   "cell_type": "code",
   "execution_count": 12,
   "metadata": {
    "collapsed": true
   },
   "outputs": [],
   "source": [
    "import catboost as cb\n",
    "from  sklearn.model_selection import train_test_split\n",
    "import lightgbm as lgb\n",
    "from sklearn.model_selection import GridSearchCV\n",
    "from sklearn import metrics"
   ]
  },
  {
   "cell_type": "code",
   "execution_count": 13,
   "metadata": {
    "collapsed": true
   },
   "outputs": [],
   "source": [
    "def auc2(m, train, valid): \n",
    "    return (metrics.roc_auc_score(y_train,m.predict_proba(train)[:,1]),\n",
    "                            metrics.roc_auc_score(y_valid,m.predict_proba(valid)[:,1]))"
   ]
  },
  {
   "cell_type": "code",
   "execution_count": 14,
   "metadata": {
    "collapsed": true
   },
   "outputs": [],
   "source": [
    "target = train_df.is_attributed\n",
    "train_df = train_df.drop(['is_attributed'], axis=1)"
   ]
  },
  {
   "cell_type": "code",
   "execution_count": 15,
   "metadata": {},
   "outputs": [
    {
     "data": {
      "text/html": [
       "<div>\n",
       "<style>\n",
       "    .dataframe thead tr:only-child th {\n",
       "        text-align: right;\n",
       "    }\n",
       "\n",
       "    .dataframe thead th {\n",
       "        text-align: left;\n",
       "    }\n",
       "\n",
       "    .dataframe tbody tr th {\n",
       "        vertical-align: top;\n",
       "    }\n",
       "</style>\n",
       "<table border=\"1\" class=\"dataframe\">\n",
       "  <thead>\n",
       "    <tr style=\"text-align: right;\">\n",
       "      <th></th>\n",
       "      <th>ip</th>\n",
       "      <th>app</th>\n",
       "      <th>device</th>\n",
       "      <th>os</th>\n",
       "      <th>channel</th>\n",
       "      <th>hour</th>\n",
       "      <th>ip_count_enc</th>\n",
       "      <th>app_count_enc</th>\n",
       "      <th>device_count_enc</th>\n",
       "      <th>os_count_enc</th>\n",
       "      <th>hour_count_enc</th>\n",
       "      <th>channel_count_enc</th>\n",
       "    </tr>\n",
       "  </thead>\n",
       "  <tbody>\n",
       "    <tr>\n",
       "      <th>0</th>\n",
       "      <td>17663</td>\n",
       "      <td>26</td>\n",
       "      <td>1</td>\n",
       "      <td>19</td>\n",
       "      <td>266</td>\n",
       "      <td>2</td>\n",
       "      <td>646</td>\n",
       "      <td>862847</td>\n",
       "      <td>42060465</td>\n",
       "      <td>10554622</td>\n",
       "      <td>1353113</td>\n",
       "      <td>232636</td>\n",
       "    </tr>\n",
       "    <tr>\n",
       "      <th>1</th>\n",
       "      <td>8720</td>\n",
       "      <td>11</td>\n",
       "      <td>1</td>\n",
       "      <td>47</td>\n",
       "      <td>325</td>\n",
       "      <td>2</td>\n",
       "      <td>2639</td>\n",
       "      <td>980339</td>\n",
       "      <td>42060465</td>\n",
       "      <td>379300</td>\n",
       "      <td>1353113</td>\n",
       "      <td>90673</td>\n",
       "    </tr>\n",
       "    <tr>\n",
       "      <th>2</th>\n",
       "      <td>118229</td>\n",
       "      <td>2</td>\n",
       "      <td>1</td>\n",
       "      <td>53</td>\n",
       "      <td>477</td>\n",
       "      <td>2</td>\n",
       "      <td>19318</td>\n",
       "      <td>5141746</td>\n",
       "      <td>42060465</td>\n",
       "      <td>322374</td>\n",
       "      <td>1353113</td>\n",
       "      <td>1712062</td>\n",
       "    </tr>\n",
       "    <tr>\n",
       "      <th>3</th>\n",
       "      <td>81606</td>\n",
       "      <td>2</td>\n",
       "      <td>1</td>\n",
       "      <td>19</td>\n",
       "      <td>237</td>\n",
       "      <td>2</td>\n",
       "      <td>5163</td>\n",
       "      <td>5141746</td>\n",
       "      <td>42060465</td>\n",
       "      <td>10554622</td>\n",
       "      <td>1353113</td>\n",
       "      <td>752819</td>\n",
       "    </tr>\n",
       "    <tr>\n",
       "      <th>4</th>\n",
       "      <td>43068</td>\n",
       "      <td>3</td>\n",
       "      <td>1</td>\n",
       "      <td>13</td>\n",
       "      <td>280</td>\n",
       "      <td>2</td>\n",
       "      <td>672</td>\n",
       "      <td>7361205</td>\n",
       "      <td>42060465</td>\n",
       "      <td>9533113</td>\n",
       "      <td>1353113</td>\n",
       "      <td>2686011</td>\n",
       "    </tr>\n",
       "  </tbody>\n",
       "</table>\n",
       "</div>"
      ],
      "text/plain": [
       "       ip  app  device  os  channel  hour  ip_count_enc  app_count_enc  \\\n",
       "0   17663   26       1  19      266     2           646         862847   \n",
       "1    8720   11       1  47      325     2          2639         980339   \n",
       "2  118229    2       1  53      477     2         19318        5141746   \n",
       "3   81606    2       1  19      237     2          5163        5141746   \n",
       "4   43068    3       1  13      280     2           672        7361205   \n",
       "\n",
       "   device_count_enc  os_count_enc  hour_count_enc  channel_count_enc  \n",
       "0          42060465      10554622         1353113             232636  \n",
       "1          42060465        379300         1353113              90673  \n",
       "2          42060465        322374         1353113            1712062  \n",
       "3          42060465      10554622         1353113             752819  \n",
       "4          42060465       9533113         1353113            2686011  "
      ]
     },
     "execution_count": 15,
     "metadata": {},
     "output_type": "execute_result"
    }
   ],
   "source": [
    "train_df.head()"
   ]
  },
  {
   "cell_type": "code",
   "execution_count": 16,
   "metadata": {
    "collapsed": true
   },
   "outputs": [],
   "source": [
    "X_train, X_valid, y_train, y_valid = train_test_split(train_df, target, test_size = 0.20, random_state = 10)"
   ]
  },
  {
   "cell_type": "code",
   "execution_count": 17,
   "metadata": {},
   "outputs": [
    {
     "data": {
      "text/plain": [
       "3617"
      ]
     },
     "execution_count": 17,
     "metadata": {},
     "output_type": "execute_result"
    }
   ],
   "source": [
    "gc.collect()"
   ]
  },
  {
   "cell_type": "code",
   "execution_count": 31,
   "metadata": {
    "collapsed": true
   },
   "outputs": [],
   "source": [
    "gbm = lgb.LGBMClassifier(objective='binary',\n",
    "                        max_depth=50,\n",
    "                        num_leaves=900,\n",
    "                        verbose =0,\n",
    "                        subsample=0.5,\n",
    "                        metric = ['auc'],\n",
    "                        learning_rate=0.1,\n",
    "                        colsample_bytree=0.8,\n",
    "                        n_estimators=100)"
   ]
  },
  {
   "cell_type": "code",
   "execution_count": 32,
   "metadata": {
    "scrolled": true
   },
   "outputs": [
    {
     "name": "stdout",
     "output_type": "stream",
     "text": [
      "[1]\tvalid_0's auc: 0.913754\n",
      "Training until validation scores don't improve for 30 rounds.\n",
      "[2]\tvalid_0's auc: 0.931723\n",
      "[3]\tvalid_0's auc: 0.93265\n",
      "[4]\tvalid_0's auc: 0.948923\n",
      "[5]\tvalid_0's auc: 0.949002\n",
      "[6]\tvalid_0's auc: 0.949502\n",
      "[7]\tvalid_0's auc: 0.949431\n",
      "[8]\tvalid_0's auc: 0.949349\n",
      "[9]\tvalid_0's auc: 0.951723\n",
      "[10]\tvalid_0's auc: 0.957192\n",
      "[11]\tvalid_0's auc: 0.958208\n",
      "[12]\tvalid_0's auc: 0.958458\n",
      "[13]\tvalid_0's auc: 0.960792\n",
      "[14]\tvalid_0's auc: 0.960729\n",
      "[15]\tvalid_0's auc: 0.960831\n",
      "[16]\tvalid_0's auc: 0.962457\n",
      "[17]\tvalid_0's auc: 0.962163\n",
      "[18]\tvalid_0's auc: 0.961725\n",
      "[19]\tvalid_0's auc: 0.961844\n",
      "[20]\tvalid_0's auc: 0.961952\n",
      "[21]\tvalid_0's auc: 0.962567\n",
      "[22]\tvalid_0's auc: 0.962891\n",
      "[23]\tvalid_0's auc: 0.963371\n",
      "[24]\tvalid_0's auc: 0.963142\n",
      "[25]\tvalid_0's auc: 0.962686\n",
      "[26]\tvalid_0's auc: 0.962656\n",
      "[27]\tvalid_0's auc: 0.963067\n",
      "[28]\tvalid_0's auc: 0.96294\n",
      "[29]\tvalid_0's auc: 0.963095\n",
      "[30]\tvalid_0's auc: 0.962616\n",
      "[31]\tvalid_0's auc: 0.962722\n",
      "[32]\tvalid_0's auc: 0.962965\n",
      "[33]\tvalid_0's auc: 0.962971\n",
      "[34]\tvalid_0's auc: 0.965059\n",
      "[35]\tvalid_0's auc: 0.965128\n",
      "[36]\tvalid_0's auc: 0.966108\n",
      "[37]\tvalid_0's auc: 0.966133\n",
      "[38]\tvalid_0's auc: 0.966344\n",
      "[39]\tvalid_0's auc: 0.966577\n",
      "[40]\tvalid_0's auc: 0.966624\n",
      "[41]\tvalid_0's auc: 0.966911\n",
      "[42]\tvalid_0's auc: 0.966917\n",
      "[43]\tvalid_0's auc: 0.966969\n",
      "[44]\tvalid_0's auc: 0.967304\n",
      "[45]\tvalid_0's auc: 0.967345\n",
      "[46]\tvalid_0's auc: 0.967666\n",
      "[47]\tvalid_0's auc: 0.967871\n",
      "[48]\tvalid_0's auc: 0.967977\n",
      "[49]\tvalid_0's auc: 0.968119\n",
      "[50]\tvalid_0's auc: 0.968245\n",
      "[51]\tvalid_0's auc: 0.968487\n",
      "[52]\tvalid_0's auc: 0.968618\n",
      "[53]\tvalid_0's auc: 0.968773\n",
      "[54]\tvalid_0's auc: 0.969001\n",
      "[55]\tvalid_0's auc: 0.969209\n",
      "[56]\tvalid_0's auc: 0.969493\n",
      "[57]\tvalid_0's auc: 0.969651\n",
      "[58]\tvalid_0's auc: 0.969956\n",
      "[59]\tvalid_0's auc: 0.970046\n",
      "[60]\tvalid_0's auc: 0.970193\n",
      "[61]\tvalid_0's auc: 0.97045\n",
      "[62]\tvalid_0's auc: 0.970531\n",
      "[63]\tvalid_0's auc: 0.970819\n",
      "[64]\tvalid_0's auc: 0.970841\n",
      "[65]\tvalid_0's auc: 0.97088\n",
      "[66]\tvalid_0's auc: 0.970961\n",
      "[67]\tvalid_0's auc: 0.971107\n",
      "[68]\tvalid_0's auc: 0.971381\n",
      "[69]\tvalid_0's auc: 0.971355\n",
      "[70]\tvalid_0's auc: 0.971336\n",
      "[71]\tvalid_0's auc: 0.971191\n",
      "[72]\tvalid_0's auc: 0.970999\n",
      "[73]\tvalid_0's auc: 0.970839\n",
      "[74]\tvalid_0's auc: 0.970684\n",
      "[75]\tvalid_0's auc: 0.970365\n",
      "[76]\tvalid_0's auc: 0.969907\n",
      "[77]\tvalid_0's auc: 0.969405\n",
      "[78]\tvalid_0's auc: 0.969048\n",
      "[79]\tvalid_0's auc: 0.968646\n",
      "[80]\tvalid_0's auc: 0.968293\n",
      "[81]\tvalid_0's auc: 0.968215\n",
      "[82]\tvalid_0's auc: 0.967812\n",
      "[83]\tvalid_0's auc: 0.967635\n",
      "[84]\tvalid_0's auc: 0.967397\n",
      "[85]\tvalid_0's auc: 0.967183\n",
      "[86]\tvalid_0's auc: 0.967138\n",
      "[87]\tvalid_0's auc: 0.967054\n",
      "[88]\tvalid_0's auc: 0.966789\n",
      "[89]\tvalid_0's auc: 0.966699\n",
      "[90]\tvalid_0's auc: 0.966596\n",
      "[91]\tvalid_0's auc: 0.966416\n",
      "[92]\tvalid_0's auc: 0.966283\n",
      "[93]\tvalid_0's auc: 0.96615\n",
      "[94]\tvalid_0's auc: 0.966022\n",
      "[95]\tvalid_0's auc: 0.965855\n",
      "[96]\tvalid_0's auc: 0.965876\n",
      "[97]\tvalid_0's auc: 0.965783\n",
      "[98]\tvalid_0's auc: 0.965762\n",
      "Early stopping, best iteration is:\n",
      "[68]\tvalid_0's auc: 0.971381\n",
      "(0.974272304917434, 0.97138079909231489)\n"
     ]
    }
   ],
   "source": [
    "gbm.fit(X_train, y_train, eval_metric=['auc'], eval_set=(X_valid,y_valid) ,early_stopping_rounds=30)\n",
    "print(auc2(gbm, X_train, X_valid))"
   ]
  },
  {
   "cell_type": "code",
   "execution_count": 35,
   "metadata": {},
   "outputs": [
    {
     "name": "stdout",
     "output_type": "stream",
     "text": [
      "25 300\n",
      "(0.97219128728157622, 0.97099741674819073)\n",
      "25 600\n",
      "(0.97428683404129257, 0.97126156972559174)\n",
      "25 900\n",
      "(0.97520747206799463, 0.97138676496171039)\n",
      "50 300\n",
      "(0.97230628330996671, 0.97078942382977007)\n",
      "50 600\n",
      "(0.97357541551707338, 0.97116213793153605)\n",
      "50 900\n",
      "(0.974272304917434, 0.97138079909231489)\n",
      "75 300\n",
      "(0.97230628330996671, 0.97078942382977007)\n",
      "75 600\n",
      "(0.97357541551707338, 0.97116213793153605)\n",
      "75 900\n",
      "(0.974272304917434, 0.97138079909231489)\n"
     ]
    }
   ],
   "source": [
    "for i in [25,50,75]:\n",
    "    for j in [300, 600, 900]:\n",
    "        print(i,j)\n",
    "        gbm = lgb.LGBMClassifier(objective='binary',\n",
    "                        max_depth=i,\n",
    "                        num_leaves=j,\n",
    "                        verbose =0,\n",
    "                        subsample=0.5,\n",
    "                        metric = ['auc'],\n",
    "                        learning_rate=0.1,\n",
    "                        colsample_bytree=0.8,\n",
    "                        n_estimators=100)\n",
    "        gbm.fit(X_train, y_train, eval_metric=['auc'], eval_set=(X_valid,y_valid) ,early_stopping_rounds=30, verbose=False)\n",
    "        print(auc2(gbm, X_train, X_valid))\n",
    "        gc.collect()"
   ]
  },
  {
   "cell_type": "code",
   "execution_count": 18,
   "metadata": {},
   "outputs": [
    {
     "name": "stdout",
     "output_type": "stream",
     "text": [
      "25 300\n",
      "(0.97512251714066966, 0.97167133345265477)\n",
      "25 600\n",
      "(0.97889727301825336, 0.97203896819164581)\n",
      "25 900\n",
      "(0.98133398772933489, 0.97200966207588968)\n",
      "50 300\n",
      "(0.97562134821686974, 0.97167686319984203)\n",
      "50 600\n",
      "(0.9781174961966872, 0.97189511107457205)\n",
      "50 900\n",
      "(0.98124340738035964, 0.97201208202151124)\n",
      "75 300\n",
      "(0.97562134821686974, 0.97167686319984203)\n",
      "75 600\n",
      "(0.9781174961966872, 0.97189511107457205)\n",
      "75 900\n",
      "(0.98124340738035964, 0.97201208202151124)\n"
     ]
    }
   ],
   "source": [
    "for i in [25,50,75]:\n",
    "    for j in [300, 600, 900]:\n",
    "        print(i,j)\n",
    "        gbm = lgb.LGBMClassifier(objective='binary',\n",
    "                        max_depth=i,\n",
    "                        num_leaves=j,\n",
    "                        verbose =0,\n",
    "                        subsample=0.5,\n",
    "                        metric = ['auc'],\n",
    "                        learning_rate=0.05,\n",
    "                        colsample_bytree=0.8,\n",
    "                        n_estimators=500)\n",
    "        gbm.fit(X_train, y_train, eval_metric=['auc'], eval_set=(X_valid,y_valid) ,early_stopping_rounds=30, verbose=False)\n",
    "        print(auc2(gbm, X_train, X_valid))\n",
    "        gc.collect()"
   ]
  },
  {
   "cell_type": "code",
   "execution_count": 17,
   "metadata": {},
   "outputs": [
    {
     "name": "stdout",
     "output_type": "stream",
     "text": [
      "30 700\n",
      "(0.97924549105476122, 0.97194032653405782)\n",
      "30 800\n",
      "(0.98014291745150639, 0.97203107188673288)\n",
      "30 1200\n",
      "(0.98313946312614198, 0.97192286221862501)\n",
      "40 700\n",
      "(0.98002332271213299, 0.97193994423260155)\n",
      "40 800\n",
      "(0.980300313219993, 0.97196410789146404)\n",
      "40 1200\n",
      "(0.98398935900696682, 0.97205214950948116)\n"
     ]
    }
   ],
   "source": [
    "for i in [30,40]:\n",
    "    for j in [700,800,1200]:\n",
    "        print(i,j)\n",
    "        gbm = lgb.LGBMClassifier(objective='binary',\n",
    "                        max_depth=i,\n",
    "                        num_leaves=j,\n",
    "                        verbose =0,\n",
    "                        subsample=0.5,\n",
    "                        metric = ['auc'],\n",
    "                        learning_rate=0.05,\n",
    "                        colsample_bytree=0.8,\n",
    "                        n_estimators=500)\n",
    "        gbm.fit(X_train, y_train, eval_metric=['auc'], eval_set=(X_valid,y_valid) ,early_stopping_rounds=30, verbose=False)\n",
    "        print(auc2(gbm, X_train, X_valid))\n",
    "        gc.collect()"
   ]
  },
  {
   "cell_type": "code",
   "execution_count": 18,
   "metadata": {},
   "outputs": [
    {
     "name": "stdout",
     "output_type": "stream",
     "text": [
      "30 700\n",
      "(0.98039442396397158, 0.97261187982082953)\n",
      "30 800\n",
      "(0.98148847607323664, 0.97262645556028693)\n",
      "30 900\n",
      "(0.98157770666953315, 0.97260847042490495)\n",
      "40 700\n",
      "(0.9796326821165563, 0.97256072224761758)\n",
      "40 800\n",
      "(0.98107946047183903, 0.97254173727585758)\n",
      "40 900\n",
      "(0.98268582163846885, 0.97256992932308861)\n"
     ]
    }
   ],
   "source": [
    "for i in [30,40]:\n",
    "    for j in [700,800,900]:\n",
    "        print(i,j)\n",
    "        gbm = lgb.LGBMClassifier(objective='binary',\n",
    "                        max_depth=i,\n",
    "                        num_leaves=j,\n",
    "                        verbose =0,\n",
    "                        subsample=0.8,\n",
    "                        metric = ['auc'],\n",
    "                        learning_rate=0.05,\n",
    "                        colsample_bytree=0.8,\n",
    "                        n_estimators=500)\n",
    "        gbm.fit(X_train, y_train, eval_metric=['auc'], eval_set=(X_valid,y_valid) ,early_stopping_rounds=30, verbose=False)\n",
    "        print(auc2(gbm, X_train, X_valid))\n",
    "        gc.collect()"
   ]
  },
  {
   "cell_type": "code",
   "execution_count": null,
   "metadata": {},
   "outputs": [
    {
     "name": "stdout",
     "output_type": "stream",
     "text": [
      "30 700\n",
      "(0.97935095413750395, 0.97216998097951357)\n",
      "30 800\n"
     ]
    }
   ],
   "source": [
    "for i in [30,40]:\n",
    "    for j in [700,800,900]:\n",
    "        print(i,j)\n",
    "        gbm = lgb.LGBMClassifier(objective='binary',\n",
    "                        max_depth=i,\n",
    "                        num_leaves=j,\n",
    "                        verbose =0,\n",
    "                        subsample=0.6,\n",
    "                        metric = ['auc'],\n",
    "                        learning_rate=0.05,\n",
    "                        colsample_bytree=0.8,\n",
    "                        n_estimators=500)\n",
    "        gbm.fit(X_train, y_train, eval_metric=['auc'], eval_set=(X_valid,y_valid) ,early_stopping_rounds=30, verbose=False)\n",
    "        print(auc2(gbm, X_train, X_valid))\n",
    "        gc.collect()"
   ]
  },
  {
   "cell_type": "code",
   "execution_count": 19,
   "metadata": {
    "collapsed": true
   },
   "outputs": [],
   "source": [
    "lg = lgb.LGBMClassifier(silent=True)\n",
    "param_dist = {\"max_depth\": [25,50,75],\n",
    "              \"subsample\":[0.5],\n",
    "              \"colsample_bytree\":[0.8],\n",
    "              \"num_leaves\": [600],\n",
    "              \"learning_rate\":[0.1],\n",
    "             }\n",
    "grid_search = GridSearchCV(lg, n_jobs=-1, param_grid=param_dist, cv = 3, scoring=\"roc_auc\", verbose=5)"
   ]
  },
  {
   "cell_type": "code",
   "execution_count": null,
   "metadata": {
    "collapsed": true
   },
   "outputs": [],
   "source": []
  },
  {
   "cell_type": "code",
   "execution_count": null,
   "metadata": {
    "collapsed": true
   },
   "outputs": [],
   "source": [
    "print('sda')"
   ]
  },
  {
   "cell_type": "code",
   "execution_count": null,
   "metadata": {
    "collapsed": true
   },
   "outputs": [],
   "source": []
  }
 ],
 "metadata": {
  "kernelspec": {
   "display_name": "Python 3",
   "language": "python",
   "name": "python3"
  },
  "language_info": {
   "codemirror_mode": {
    "name": "ipython",
    "version": 3
   },
   "file_extension": ".py",
   "mimetype": "text/x-python",
   "name": "python",
   "nbconvert_exporter": "python",
   "pygments_lexer": "ipython3",
   "version": "3.6.3"
  }
 },
 "nbformat": 4,
 "nbformat_minor": 2
}
