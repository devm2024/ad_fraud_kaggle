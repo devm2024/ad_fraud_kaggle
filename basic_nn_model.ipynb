{
 "cells": [
  {
   "cell_type": "code",
   "execution_count": 103,
   "metadata": {},
   "outputs": [],
   "source": [
    "import pandas as pd\n",
    "import numpy as np\n",
    "import warnings\n",
    "warnings.filterwarnings('ignore')\n",
    "import os\n",
    "from sklearn.metrics import roc_auc_score\n",
    "os.environ['OMP_NUM_THREADS'] = '4'\n",
    "import gc"
   ]
  },
  {
   "cell_type": "code",
   "execution_count": 2,
   "metadata": {},
   "outputs": [
    {
     "name": "stdout",
     "output_type": "stream",
     "text": [
      "load train....\n"
     ]
    }
   ],
   "source": [
    "dtypes = {\n",
    "        'ip'            : 'uint32',\n",
    "        'app'           : 'uint16',\n",
    "        'device'        : 'uint16',\n",
    "        'os'            : 'uint16',\n",
    "        'channel'       : 'uint16',\n",
    "        'is_attributed' : 'uint8',\n",
    "        'click_id'      : 'uint32'\n",
    "        }\n",
    "train_df = pd.read_csv(\"../train.csv\", dtype=dtypes, skiprows = range(1, 131886954), usecols=['ip','app','device','os', 'channel', 'click_time', 'is_attributed'])\n",
    "print('load train....')"
   ]
  },
  {
   "cell_type": "code",
   "execution_count": 6,
   "metadata": {},
   "outputs": [
    {
     "data": {
      "text/plain": [
       "53016937"
      ]
     },
     "execution_count": 6,
     "metadata": {},
     "output_type": "execute_result"
    }
   ],
   "source": [
    "len(train_df)"
   ]
  },
  {
   "cell_type": "code",
   "execution_count": 7,
   "metadata": {},
   "outputs": [
    {
     "name": "stdout",
     "output_type": "stream",
     "text": [
      "53016937\n"
     ]
    }
   ],
   "source": [
    "test_df = pd.read_csv(\"../test.csv\", dtype=dtypes, usecols=['ip','app','device','os', 'channel', 'click_time', 'click_id'])\n",
    "len_train = len(train_df)\n",
    "print(len_train)"
   ]
  },
  {
   "cell_type": "code",
   "execution_count": 8,
   "metadata": {},
   "outputs": [
    {
     "data": {
      "text/plain": [
       "28"
      ]
     },
     "execution_count": 8,
     "metadata": {},
     "output_type": "execute_result"
    }
   ],
   "source": [
    "train_df=train_df.append(test_df)\n",
    "del test_df; gc.collect()"
   ]
  },
  {
   "cell_type": "code",
   "execution_count": 9,
   "metadata": {},
   "outputs": [
    {
     "name": "stdout",
     "output_type": "stream",
     "text": [
      "hour, day, wday....\n"
     ]
    }
   ],
   "source": [
    "print('hour, day, wday....')\n",
    "train_df['hour'] = pd.to_datetime(train_df.click_time).dt.hour.astype('uint8')\n",
    "train_df['day'] = pd.to_datetime(train_df.click_time).dt.day.astype('uint8')\n",
    "train_df['wday']  = pd.to_datetime(train_df.click_time).dt.dayofweek.astype('uint8')"
   ]
  },
  {
   "cell_type": "code",
   "execution_count": 10,
   "metadata": {},
   "outputs": [
    {
     "name": "stdout",
     "output_type": "stream",
     "text": [
      "grouping by ip-day-hour combination....\n"
     ]
    }
   ],
   "source": [
    "print('grouping by ip-day-hour combination....')\n",
    "gp = train_df[['ip','day','hour','channel']].groupby(by=['ip','day','hour'])[['channel']].count().reset_index().rename(index=str, columns={'channel': 'qty'})\n",
    "train_df = train_df.merge(gp, on=['ip','day','hour'], how='left')"
   ]
  },
  {
   "cell_type": "code",
   "execution_count": 11,
   "metadata": {},
   "outputs": [
    {
     "name": "stdout",
     "output_type": "stream",
     "text": [
      "group by ip-app combination....\n",
      "group by ip-app-os combination....\n"
     ]
    },
    {
     "data": {
      "text/plain": [
       "117"
      ]
     },
     "execution_count": 11,
     "metadata": {},
     "output_type": "execute_result"
    }
   ],
   "source": [
    "del gp; gc.collect()\n",
    "print('group by ip-app combination....')\n",
    "gp = train_df[['ip','app', 'channel']].groupby(by=['ip', 'app'])[['channel']].count().reset_index().rename(index=str, columns={'channel': 'ip_app_count'})\n",
    "train_df = train_df.merge(gp, on=['ip','app'], how='left')\n",
    "del gp; gc.collect()\n",
    "print('group by ip-app-os combination....')\n",
    "gp = train_df[['ip','app', 'os', 'channel']].groupby(by=['ip', 'app', 'os'])[['channel']].count().reset_index().rename(index=str, columns={'channel': 'ip_app_os_count'})\n",
    "train_df = train_df.merge(gp, on=['ip','app', 'os'], how='left')\n",
    "del gp; gc.collect()"
   ]
  },
  {
   "cell_type": "code",
   "execution_count": 12,
   "metadata": {},
   "outputs": [
    {
     "name": "stdout",
     "output_type": "stream",
     "text": [
      "vars and data type....\n"
     ]
    }
   ],
   "source": [
    "print(\"vars and data type....\")\n",
    "train_df['qty'] = train_df['qty'].astype('uint16')\n",
    "train_df['ip_app_count'] = train_df['ip_app_count'].astype('uint16')\n",
    "train_df['ip_app_os_count'] = train_df['ip_app_os_count'].astype('uint16')"
   ]
  },
  {
   "cell_type": "code",
   "execution_count": 13,
   "metadata": {},
   "outputs": [
    {
     "name": "stdout",
     "output_type": "stream",
     "text": [
      "final part of preparation....\n"
     ]
    }
   ],
   "source": [
    "from sklearn.preprocessing import LabelEncoder\n",
    "train_df[['app','device','os', 'channel', 'hour', 'day', 'wday']].apply(LabelEncoder().fit_transform)\n",
    "print ('final part of preparation....')"
   ]
  },
  {
   "cell_type": "code",
   "execution_count": 14,
   "metadata": {},
   "outputs": [
    {
     "data": {
      "text/plain": [
       "((71807406, 14), 53016937)"
      ]
     },
     "execution_count": 14,
     "metadata": {},
     "output_type": "execute_result"
    }
   ],
   "source": [
    "## Look for train_df\n",
    "train_df.shape, len_train"
   ]
  },
  {
   "cell_type": "code",
   "execution_count": 15,
   "metadata": {},
   "outputs": [],
   "source": [
    "test_df = train_df[len_train:]\n",
    "train_df = train_df[:len_train]"
   ]
  },
  {
   "cell_type": "code",
   "execution_count": 16,
   "metadata": {},
   "outputs": [
    {
     "data": {
      "text/html": [
       "<div>\n",
       "<style scoped>\n",
       "    .dataframe tbody tr th:only-of-type {\n",
       "        vertical-align: middle;\n",
       "    }\n",
       "\n",
       "    .dataframe tbody tr th {\n",
       "        vertical-align: top;\n",
       "    }\n",
       "\n",
       "    .dataframe thead th {\n",
       "        text-align: right;\n",
       "    }\n",
       "</style>\n",
       "<table border=\"1\" class=\"dataframe\">\n",
       "  <thead>\n",
       "    <tr style=\"text-align: right;\">\n",
       "      <th></th>\n",
       "      <th>app</th>\n",
       "      <th>channel</th>\n",
       "      <th>click_id</th>\n",
       "      <th>click_time</th>\n",
       "      <th>device</th>\n",
       "      <th>ip</th>\n",
       "      <th>is_attributed</th>\n",
       "      <th>os</th>\n",
       "      <th>hour</th>\n",
       "      <th>day</th>\n",
       "      <th>wday</th>\n",
       "      <th>qty</th>\n",
       "      <th>ip_app_count</th>\n",
       "      <th>ip_app_os_count</th>\n",
       "    </tr>\n",
       "  </thead>\n",
       "  <tbody>\n",
       "    <tr>\n",
       "      <th>0</th>\n",
       "      <td>11</td>\n",
       "      <td>487</td>\n",
       "      <td>NaN</td>\n",
       "      <td>2017-11-09 00:00:00</td>\n",
       "      <td>1</td>\n",
       "      <td>201143</td>\n",
       "      <td>0.0</td>\n",
       "      <td>13</td>\n",
       "      <td>0</td>\n",
       "      <td>9</td>\n",
       "      <td>3</td>\n",
       "      <td>70</td>\n",
       "      <td>56</td>\n",
       "      <td>13</td>\n",
       "    </tr>\n",
       "    <tr>\n",
       "      <th>1</th>\n",
       "      <td>2</td>\n",
       "      <td>469</td>\n",
       "      <td>NaN</td>\n",
       "      <td>2017-11-09 00:00:00</td>\n",
       "      <td>1</td>\n",
       "      <td>34684</td>\n",
       "      <td>0.0</td>\n",
       "      <td>13</td>\n",
       "      <td>0</td>\n",
       "      <td>9</td>\n",
       "      <td>3</td>\n",
       "      <td>54</td>\n",
       "      <td>68</td>\n",
       "      <td>8</td>\n",
       "    </tr>\n",
       "    <tr>\n",
       "      <th>2</th>\n",
       "      <td>26</td>\n",
       "      <td>477</td>\n",
       "      <td>NaN</td>\n",
       "      <td>2017-11-09 00:00:00</td>\n",
       "      <td>1</td>\n",
       "      <td>207368</td>\n",
       "      <td>0.0</td>\n",
       "      <td>19</td>\n",
       "      <td>0</td>\n",
       "      <td>9</td>\n",
       "      <td>3</td>\n",
       "      <td>101</td>\n",
       "      <td>27</td>\n",
       "      <td>13</td>\n",
       "    </tr>\n",
       "    <tr>\n",
       "      <th>3</th>\n",
       "      <td>18</td>\n",
       "      <td>121</td>\n",
       "      <td>NaN</td>\n",
       "      <td>2017-11-09 00:00:00</td>\n",
       "      <td>1</td>\n",
       "      <td>110176</td>\n",
       "      <td>0.0</td>\n",
       "      <td>8</td>\n",
       "      <td>0</td>\n",
       "      <td>9</td>\n",
       "      <td>3</td>\n",
       "      <td>146</td>\n",
       "      <td>214</td>\n",
       "      <td>10</td>\n",
       "    </tr>\n",
       "    <tr>\n",
       "      <th>4</th>\n",
       "      <td>12</td>\n",
       "      <td>265</td>\n",
       "      <td>NaN</td>\n",
       "      <td>2017-11-09 00:00:00</td>\n",
       "      <td>1</td>\n",
       "      <td>109644</td>\n",
       "      <td>0.0</td>\n",
       "      <td>19</td>\n",
       "      <td>0</td>\n",
       "      <td>9</td>\n",
       "      <td>3</td>\n",
       "      <td>393</td>\n",
       "      <td>1423</td>\n",
       "      <td>351</td>\n",
       "    </tr>\n",
       "  </tbody>\n",
       "</table>\n",
       "</div>"
      ],
      "text/plain": [
       "   app  channel  click_id           click_time  device      ip  is_attributed  \\\n",
       "0   11      487       NaN  2017-11-09 00:00:00       1  201143            0.0   \n",
       "1    2      469       NaN  2017-11-09 00:00:00       1   34684            0.0   \n",
       "2   26      477       NaN  2017-11-09 00:00:00       1  207368            0.0   \n",
       "3   18      121       NaN  2017-11-09 00:00:00       1  110176            0.0   \n",
       "4   12      265       NaN  2017-11-09 00:00:00       1  109644            0.0   \n",
       "\n",
       "   os  hour  day  wday  qty  ip_app_count  ip_app_os_count  \n",
       "0  13     0    9     3   70            56               13  \n",
       "1  13     0    9     3   54            68                8  \n",
       "2  19     0    9     3  101            27               13  \n",
       "3   8     0    9     3  146           214               10  \n",
       "4  19     0    9     3  393          1423              351  "
      ]
     },
     "execution_count": 16,
     "metadata": {},
     "output_type": "execute_result"
    }
   ],
   "source": [
    "train_df.head()"
   ]
  },
  {
   "cell_type": "code",
   "execution_count": 18,
   "metadata": {},
   "outputs": [
    {
     "data": {
      "text/html": [
       "<div>\n",
       "<style scoped>\n",
       "    .dataframe tbody tr th:only-of-type {\n",
       "        vertical-align: middle;\n",
       "    }\n",
       "\n",
       "    .dataframe tbody tr th {\n",
       "        vertical-align: top;\n",
       "    }\n",
       "\n",
       "    .dataframe thead th {\n",
       "        text-align: right;\n",
       "    }\n",
       "</style>\n",
       "<table border=\"1\" class=\"dataframe\">\n",
       "  <thead>\n",
       "    <tr style=\"text-align: right;\">\n",
       "      <th></th>\n",
       "      <th>app</th>\n",
       "      <th>channel</th>\n",
       "      <th>click_id</th>\n",
       "      <th>click_time</th>\n",
       "      <th>device</th>\n",
       "      <th>ip</th>\n",
       "      <th>is_attributed</th>\n",
       "      <th>os</th>\n",
       "      <th>hour</th>\n",
       "      <th>day</th>\n",
       "      <th>wday</th>\n",
       "      <th>qty</th>\n",
       "      <th>ip_app_count</th>\n",
       "      <th>ip_app_os_count</th>\n",
       "    </tr>\n",
       "  </thead>\n",
       "  <tbody>\n",
       "    <tr>\n",
       "      <th>53016937</th>\n",
       "      <td>9</td>\n",
       "      <td>107</td>\n",
       "      <td>0.0</td>\n",
       "      <td>2017-11-10 04:00:00</td>\n",
       "      <td>1</td>\n",
       "      <td>5744</td>\n",
       "      <td>NaN</td>\n",
       "      <td>3</td>\n",
       "      <td>4</td>\n",
       "      <td>10</td>\n",
       "      <td>4</td>\n",
       "      <td>34</td>\n",
       "      <td>87</td>\n",
       "      <td>3</td>\n",
       "    </tr>\n",
       "    <tr>\n",
       "      <th>53016938</th>\n",
       "      <td>9</td>\n",
       "      <td>466</td>\n",
       "      <td>1.0</td>\n",
       "      <td>2017-11-10 04:00:00</td>\n",
       "      <td>1</td>\n",
       "      <td>119901</td>\n",
       "      <td>NaN</td>\n",
       "      <td>3</td>\n",
       "      <td>4</td>\n",
       "      <td>10</td>\n",
       "      <td>4</td>\n",
       "      <td>403</td>\n",
       "      <td>1089</td>\n",
       "      <td>14</td>\n",
       "    </tr>\n",
       "    <tr>\n",
       "      <th>53016939</th>\n",
       "      <td>21</td>\n",
       "      <td>128</td>\n",
       "      <td>2.0</td>\n",
       "      <td>2017-11-10 04:00:00</td>\n",
       "      <td>1</td>\n",
       "      <td>72287</td>\n",
       "      <td>NaN</td>\n",
       "      <td>19</td>\n",
       "      <td>4</td>\n",
       "      <td>10</td>\n",
       "      <td>4</td>\n",
       "      <td>229</td>\n",
       "      <td>417</td>\n",
       "      <td>52</td>\n",
       "    </tr>\n",
       "    <tr>\n",
       "      <th>53016940</th>\n",
       "      <td>15</td>\n",
       "      <td>111</td>\n",
       "      <td>3.0</td>\n",
       "      <td>2017-11-10 04:00:00</td>\n",
       "      <td>1</td>\n",
       "      <td>78477</td>\n",
       "      <td>NaN</td>\n",
       "      <td>13</td>\n",
       "      <td>4</td>\n",
       "      <td>10</td>\n",
       "      <td>4</td>\n",
       "      <td>239</td>\n",
       "      <td>193</td>\n",
       "      <td>45</td>\n",
       "    </tr>\n",
       "    <tr>\n",
       "      <th>53016941</th>\n",
       "      <td>12</td>\n",
       "      <td>328</td>\n",
       "      <td>4.0</td>\n",
       "      <td>2017-11-10 04:00:00</td>\n",
       "      <td>1</td>\n",
       "      <td>123080</td>\n",
       "      <td>NaN</td>\n",
       "      <td>13</td>\n",
       "      <td>4</td>\n",
       "      <td>10</td>\n",
       "      <td>4</td>\n",
       "      <td>60</td>\n",
       "      <td>79</td>\n",
       "      <td>27</td>\n",
       "    </tr>\n",
       "  </tbody>\n",
       "</table>\n",
       "</div>"
      ],
      "text/plain": [
       "          app  channel  click_id           click_time  device      ip  \\\n",
       "53016937    9      107       0.0  2017-11-10 04:00:00       1    5744   \n",
       "53016938    9      466       1.0  2017-11-10 04:00:00       1  119901   \n",
       "53016939   21      128       2.0  2017-11-10 04:00:00       1   72287   \n",
       "53016940   15      111       3.0  2017-11-10 04:00:00       1   78477   \n",
       "53016941   12      328       4.0  2017-11-10 04:00:00       1  123080   \n",
       "\n",
       "          is_attributed  os  hour  day  wday  qty  ip_app_count  \\\n",
       "53016937            NaN   3     4   10     4   34            87   \n",
       "53016938            NaN   3     4   10     4  403          1089   \n",
       "53016939            NaN  19     4   10     4  229           417   \n",
       "53016940            NaN  13     4   10     4  239           193   \n",
       "53016941            NaN  13     4   10     4   60            79   \n",
       "\n",
       "          ip_app_os_count  \n",
       "53016937                3  \n",
       "53016938               14  \n",
       "53016939               52  \n",
       "53016940               45  \n",
       "53016941               27  "
      ]
     },
     "execution_count": 18,
     "metadata": {},
     "output_type": "execute_result"
    }
   ],
   "source": [
    "test_df.head()"
   ]
  },
  {
   "cell_type": "code",
   "execution_count": 19,
   "metadata": {},
   "outputs": [],
   "source": [
    "def reg_target_encoding(train, test, col, target='is_attributed'):\n",
    "    \"\"\" Computes regularize mean encoding.\n",
    "    Inputs:\n",
    "       train: training dataframe\n",
    "    \"\"\"\n",
    "    \n",
    "    new_col_name='%s_count_enc'%col \n",
    "    \n",
    "    \n",
    "    temp = train.groupby(col)[target].count()\n",
    "    train[new_col_name]= train[col].map(temp)\n",
    "    test[new_col_name]= test[col].map(temp)\n",
    "    global_mean = train[target].count()\n",
    "    train[new_col_name] = train[new_col_name].fillna(global_mean)\n",
    "    test[new_col_name] = test[new_col_name].fillna(global_mean)\n",
    "\n",
    "reg_target_encoding(train_df,test_df, col = \"ip\")\n",
    "reg_target_encoding(train_df,test_df, col = \"app\")\n",
    "reg_target_encoding(train_df,test_df, col = \"device\")\n",
    "reg_target_encoding(train_df,test_df, col = \"os\")\n",
    "reg_target_encoding(train_df,test_df, col = \"hour\")\n",
    "reg_target_encoding(train_df,test_df, col = \"channel\")"
   ]
  },
  {
   "cell_type": "code",
   "execution_count": 74,
   "metadata": {},
   "outputs": [
    {
     "data": {
      "text/html": [
       "<div>\n",
       "<style scoped>\n",
       "    .dataframe tbody tr th:only-of-type {\n",
       "        vertical-align: middle;\n",
       "    }\n",
       "\n",
       "    .dataframe tbody tr th {\n",
       "        vertical-align: top;\n",
       "    }\n",
       "\n",
       "    .dataframe thead th {\n",
       "        text-align: right;\n",
       "    }\n",
       "</style>\n",
       "<table border=\"1\" class=\"dataframe\">\n",
       "  <thead>\n",
       "    <tr style=\"text-align: right;\">\n",
       "      <th></th>\n",
       "      <th>app</th>\n",
       "      <th>channel</th>\n",
       "      <th>click_id</th>\n",
       "      <th>click_time</th>\n",
       "      <th>device</th>\n",
       "      <th>ip</th>\n",
       "      <th>is_attributed</th>\n",
       "      <th>os</th>\n",
       "      <th>hour</th>\n",
       "      <th>day</th>\n",
       "      <th>wday</th>\n",
       "      <th>qty</th>\n",
       "      <th>ip_app_count</th>\n",
       "      <th>ip_app_os_count</th>\n",
       "      <th>ip_count_enc</th>\n",
       "      <th>app_count_enc</th>\n",
       "      <th>device_count_enc</th>\n",
       "      <th>os_count_enc</th>\n",
       "      <th>hour_count_enc</th>\n",
       "      <th>channel_count_enc</th>\n",
       "    </tr>\n",
       "  </thead>\n",
       "  <tbody>\n",
       "    <tr>\n",
       "      <th>53016937</th>\n",
       "      <td>9</td>\n",
       "      <td>107</td>\n",
       "      <td>0.0</td>\n",
       "      <td>2017-11-10 04:00:00</td>\n",
       "      <td>1</td>\n",
       "      <td>5744</td>\n",
       "      <td>NaN</td>\n",
       "      <td>3</td>\n",
       "      <td>4</td>\n",
       "      <td>10</td>\n",
       "      <td>4</td>\n",
       "      <td>34</td>\n",
       "      <td>87</td>\n",
       "      <td>3</td>\n",
       "      <td>378.0</td>\n",
       "      <td>6213966.0</td>\n",
       "      <td>49891688.0</td>\n",
       "      <td>856404.0</td>\n",
       "      <td>4032691</td>\n",
       "      <td>2954839.0</td>\n",
       "    </tr>\n",
       "    <tr>\n",
       "      <th>53016938</th>\n",
       "      <td>9</td>\n",
       "      <td>466</td>\n",
       "      <td>1.0</td>\n",
       "      <td>2017-11-10 04:00:00</td>\n",
       "      <td>1</td>\n",
       "      <td>119901</td>\n",
       "      <td>NaN</td>\n",
       "      <td>3</td>\n",
       "      <td>4</td>\n",
       "      <td>10</td>\n",
       "      <td>4</td>\n",
       "      <td>403</td>\n",
       "      <td>1089</td>\n",
       "      <td>14</td>\n",
       "      <td>5835.0</td>\n",
       "      <td>6213966.0</td>\n",
       "      <td>49891688.0</td>\n",
       "      <td>856404.0</td>\n",
       "      <td>4032691</td>\n",
       "      <td>1171913.0</td>\n",
       "    </tr>\n",
       "    <tr>\n",
       "      <th>53016939</th>\n",
       "      <td>21</td>\n",
       "      <td>128</td>\n",
       "      <td>2.0</td>\n",
       "      <td>2017-11-10 04:00:00</td>\n",
       "      <td>1</td>\n",
       "      <td>72287</td>\n",
       "      <td>NaN</td>\n",
       "      <td>19</td>\n",
       "      <td>4</td>\n",
       "      <td>10</td>\n",
       "      <td>4</td>\n",
       "      <td>229</td>\n",
       "      <td>417</td>\n",
       "      <td>52</td>\n",
       "      <td>3584.0</td>\n",
       "      <td>1098062.0</td>\n",
       "      <td>49891688.0</td>\n",
       "      <td>12537977.0</td>\n",
       "      <td>4032691</td>\n",
       "      <td>746233.0</td>\n",
       "    </tr>\n",
       "    <tr>\n",
       "      <th>53016940</th>\n",
       "      <td>15</td>\n",
       "      <td>111</td>\n",
       "      <td>3.0</td>\n",
       "      <td>2017-11-10 04:00:00</td>\n",
       "      <td>1</td>\n",
       "      <td>78477</td>\n",
       "      <td>NaN</td>\n",
       "      <td>13</td>\n",
       "      <td>4</td>\n",
       "      <td>10</td>\n",
       "      <td>4</td>\n",
       "      <td>239</td>\n",
       "      <td>193</td>\n",
       "      <td>45</td>\n",
       "      <td>3312.0</td>\n",
       "      <td>3432186.0</td>\n",
       "      <td>49891688.0</td>\n",
       "      <td>11284964.0</td>\n",
       "      <td>4032691</td>\n",
       "      <td>160937.0</td>\n",
       "    </tr>\n",
       "    <tr>\n",
       "      <th>53016941</th>\n",
       "      <td>12</td>\n",
       "      <td>328</td>\n",
       "      <td>4.0</td>\n",
       "      <td>2017-11-10 04:00:00</td>\n",
       "      <td>1</td>\n",
       "      <td>123080</td>\n",
       "      <td>NaN</td>\n",
       "      <td>13</td>\n",
       "      <td>4</td>\n",
       "      <td>10</td>\n",
       "      <td>4</td>\n",
       "      <td>60</td>\n",
       "      <td>79</td>\n",
       "      <td>27</td>\n",
       "      <td>375.0</td>\n",
       "      <td>6349572.0</td>\n",
       "      <td>49891688.0</td>\n",
       "      <td>11284964.0</td>\n",
       "      <td>4032691</td>\n",
       "      <td>493720.0</td>\n",
       "    </tr>\n",
       "  </tbody>\n",
       "</table>\n",
       "</div>"
      ],
      "text/plain": [
       "          app  channel  click_id           click_time  device      ip  \\\n",
       "53016937    9      107       0.0  2017-11-10 04:00:00       1    5744   \n",
       "53016938    9      466       1.0  2017-11-10 04:00:00       1  119901   \n",
       "53016939   21      128       2.0  2017-11-10 04:00:00       1   72287   \n",
       "53016940   15      111       3.0  2017-11-10 04:00:00       1   78477   \n",
       "53016941   12      328       4.0  2017-11-10 04:00:00       1  123080   \n",
       "\n",
       "          is_attributed  os  hour  day  wday  qty  ip_app_count  \\\n",
       "53016937            NaN   3     4   10     4   34            87   \n",
       "53016938            NaN   3     4   10     4  403          1089   \n",
       "53016939            NaN  19     4   10     4  229           417   \n",
       "53016940            NaN  13     4   10     4  239           193   \n",
       "53016941            NaN  13     4   10     4   60            79   \n",
       "\n",
       "          ip_app_os_count  ip_count_enc  app_count_enc  device_count_enc  \\\n",
       "53016937                3         378.0      6213966.0        49891688.0   \n",
       "53016938               14        5835.0      6213966.0        49891688.0   \n",
       "53016939               52        3584.0      1098062.0        49891688.0   \n",
       "53016940               45        3312.0      3432186.0        49891688.0   \n",
       "53016941               27         375.0      6349572.0        49891688.0   \n",
       "\n",
       "          os_count_enc  hour_count_enc  channel_count_enc  \n",
       "53016937      856404.0         4032691          2954839.0  \n",
       "53016938      856404.0         4032691          1171913.0  \n",
       "53016939    12537977.0         4032691           746233.0  \n",
       "53016940    11284964.0         4032691           160937.0  \n",
       "53016941    11284964.0         4032691           493720.0  "
      ]
     },
     "execution_count": 74,
     "metadata": {},
     "output_type": "execute_result"
    }
   ],
   "source": [
    "test_df.head()"
   ]
  },
  {
   "cell_type": "code",
   "execution_count": 75,
   "metadata": {},
   "outputs": [],
   "source": [
    "target = train_df.is_attributed\n",
    "train_df.drop(['click_id', 'click_time', 'is_attributed'], axis=1, inplace=True)\n",
    "test_df.drop(['click_id', 'click_time', 'is_attributed'], axis=1, inplace=True)"
   ]
  },
  {
   "cell_type": "code",
   "execution_count": 88,
   "metadata": {},
   "outputs": [],
   "source": [
    "train_df.drop('ip', axis=1, inplace=True)\n",
    "test_df.drop('ip', axis=1, inplace=True)"
   ]
  },
  {
   "cell_type": "code",
   "execution_count": 76,
   "metadata": {},
   "outputs": [
    {
     "name": "stdout",
     "output_type": "stream",
     "text": [
      "neural network....\n"
     ]
    }
   ],
   "source": [
    "print ('neural network....')\n",
    "from keras.layers import Input, Embedding, Dense, Flatten, Dropout, concatenate, Reshape, Merge, Activation\n",
    "from keras.layers import BatchNormalization, SpatialDropout1D\n",
    "from keras.callbacks import Callback\n",
    "from keras.models import Sequential\n",
    "\n",
    "from keras.models import Model\n",
    "from keras.optimizers import Adam"
   ]
  },
  {
   "cell_type": "code",
   "execution_count": 21,
   "metadata": {},
   "outputs": [],
   "source": [
    "max_app = np.max([train_df['app'].max(), test_df['app'].max()])+1\n",
    "max_ch = np.max([train_df['channel'].max(), test_df['channel'].max()])+1\n",
    "max_dev = np.max([train_df['device'].max(), test_df['device'].max()])+1\n",
    "max_os = np.max([train_df['os'].max(), test_df['os'].max()])+1\n",
    "max_h = np.max([train_df['hour'].max(), test_df['hour'].max()])+1\n",
    "max_d = np.max([train_df['day'].max(), test_df['day'].max()])+1\n",
    "max_wd = np.max([train_df['wday'].max(), test_df['wday'].max()])+1\n",
    "max_qty = np.max([train_df['qty'].max(), test_df['qty'].max()])+1\n",
    "max_c1 = np.max([train_df['ip_app_count'].max(), test_df['ip_app_count'].max()])+1\n",
    "max_c2 = np.max([train_df['ip_app_os_count'].max(), test_df['ip_app_os_count'].max()])+1"
   ]
  },
  {
   "cell_type": "code",
   "execution_count": 77,
   "metadata": {},
   "outputs": [],
   "source": [
    "def get_emb_models(name, in_dim, emb_n):\n",
    "    if in_dim<50:\n",
    "        emb_n=5\n",
    "    \n",
    "    in_app= Sequential(name=name)\n",
    "    in_app.add(Embedding(in_dim, emb_n, input_length=1))\n",
    "    in_app.add(Reshape(target_shape=(emb_n,)))\n",
    "    return in_app"
   ]
  },
  {
   "cell_type": "code",
   "execution_count": 91,
   "metadata": {},
   "outputs": [],
   "source": [
    "def get_num_models(name):\n",
    "    in_app= Sequential(name=name)\n",
    "    in_app.add(Dense(1, input_dim=1))\n",
    "    return in_app"
   ]
  },
  {
   "cell_type": "code",
   "execution_count": 179,
   "metadata": {},
   "outputs": [
    {
     "name": "stdout",
     "output_type": "stream",
     "text": [
      "app 769\n",
      "ch 501\n",
      "dev 4228\n",
      "os 957\n",
      "h 17\n",
      "d 11\n",
      "wd 5\n",
      "qty 43959\n",
      "c1 65409\n",
      "c2 16654\n"
     ]
    }
   ],
   "source": [
    "for name, in_dim in zip(['app', 'ch', 'dev', 'os', 'h', 'd', 'wd', 'qty','c1','c2'], [max_app, max_ch, max_dev, max_os, max_h, max_d, max_wd, max_qty, max_c1, max_c2]):\n",
    "    print(name, in_dim)"
   ]
  },
  {
   "cell_type": "code",
   "execution_count": 93,
   "metadata": {},
   "outputs": [],
   "source": [
    "def get_model():\n",
    "    models = []\n",
    "    emb_n = 50\n",
    "    dense_n = 1000\n",
    "    \n",
    "    for name, in_dim in zip(['app', 'ch', 'dev', 'os', 'h', 'd', 'wd', 'qty','c1','c2'], [max_app, max_ch, max_dev, max_os, max_h, max_d, max_wd, max_qty, max_c1, max_c2]):\n",
    "        models.append(get_emb_models(name, in_dim, emb_n))\n",
    "    \n",
    "    for name in ['ip_count_enc','app_count_enc','device_count_enc','os_count_enc','hour_count_enc','channel_count_enc']:\n",
    "        models.append(get_num_models(name))\n",
    "    \n",
    "    self_model = Sequential()\n",
    "    self_model.add(Merge(models, mode='concat',  concat_axis=1))\n",
    "    self_model.add(Dense(250, init='uniform'))\n",
    "    self_model.add(Activation('relu'))\n",
    "    \n",
    "    self_model.add(Dropout(0.2))\n",
    "    self_model.add(Dense(125, init='uniform'))\n",
    "    self_model.add(Activation('relu'))\n",
    "\n",
    "    self_model.add(Dense(1))\n",
    "    self_model.add(Activation('sigmoid'))\n",
    "\n",
    "    sgd = Adam(lr = 0.0001)\n",
    "    self_model.compile(loss='binary_crossentropy', optimizer='adam')\n",
    "    \n",
    "    return self_model\n"
   ]
  },
  {
   "cell_type": "code",
   "execution_count": 94,
   "metadata": {},
   "outputs": [
    {
     "name": "stdout",
     "output_type": "stream",
     "text": [
      "_________________________________________________________________\n",
      "Layer (type)                 Output Shape              Param #   \n",
      "=================================================================\n",
      "merge_13 (Merge)             (None, 371)               0         \n",
      "_________________________________________________________________\n",
      "dense_41 (Dense)             (None, 250)               93000     \n",
      "_________________________________________________________________\n",
      "activation_19 (Activation)   (None, 250)               0         \n",
      "_________________________________________________________________\n",
      "dropout_9 (Dropout)          (None, 250)               0         \n",
      "_________________________________________________________________\n",
      "dense_42 (Dense)             (None, 125)               31375     \n",
      "_________________________________________________________________\n",
      "activation_20 (Activation)   (None, 125)               0         \n",
      "_________________________________________________________________\n",
      "dense_43 (Dense)             (None, 1)                 126       \n",
      "_________________________________________________________________\n",
      "activation_21 (Activation)   (None, 1)                 0         \n",
      "=================================================================\n",
      "Total params: 6,748,528\n",
      "Trainable params: 6,748,528\n",
      "Non-trainable params: 0\n",
      "_________________________________________________________________\n"
     ]
    }
   ],
   "source": [
    "get_model().summary()"
   ]
  },
  {
   "cell_type": "code",
   "execution_count": 96,
   "metadata": {},
   "outputs": [],
   "source": [
    "def preprocess(X):\n",
    "    final_x=list()\n",
    "    for cols in X.columns:\n",
    "        temp=X[cols] #1\n",
    "        final_x.append(temp)\n",
    "    return final_x"
   ]
  },
  {
   "cell_type": "code",
   "execution_count": 173,
   "metadata": {},
   "outputs": [],
   "source": [
    "from sklearn.model_selection import train_test_split\n",
    "X_train, X_test, y_train, y_test = train_test_split(train_df, target,stratify=target, test_size=0.25)"
   ]
  },
  {
   "cell_type": "code",
   "execution_count": 174,
   "metadata": {},
   "outputs": [
    {
     "data": {
      "text/plain": [
       "((39762702, 16), (13254235, 16), (39762702,), (13254235,))"
      ]
     },
     "execution_count": 174,
     "metadata": {},
     "output_type": "execute_result"
    }
   ],
   "source": [
    "X_train.shape, X_test.shape, y_train.shape, y_test.shape"
   ]
  },
  {
   "cell_type": "code",
   "execution_count": 175,
   "metadata": {},
   "outputs": [],
   "source": [
    "import random\n",
    "def generator(data, labels, num):\n",
    "    idx = np.arange(0 , data.shape[0])\n",
    "    np.random.shuffle(idx)\n",
    "    idx = idx[:num]\n",
    "    while True:\n",
    "        data_shuffle = preprocess(data.iloc[idx])\n",
    "        labels_shuffle = labels[idx]\n",
    "        yield data_shuffle, labels_shuffle"
   ]
  },
  {
   "cell_type": "code",
   "execution_count": 172,
   "metadata": {},
   "outputs": [
    {
     "data": {
      "text/html": [
       "<div>\n",
       "<style scoped>\n",
       "    .dataframe tbody tr th:only-of-type {\n",
       "        vertical-align: middle;\n",
       "    }\n",
       "\n",
       "    .dataframe tbody tr th {\n",
       "        vertical-align: top;\n",
       "    }\n",
       "\n",
       "    .dataframe thead th {\n",
       "        text-align: right;\n",
       "    }\n",
       "</style>\n",
       "<table border=\"1\" class=\"dataframe\">\n",
       "  <thead>\n",
       "    <tr style=\"text-align: right;\">\n",
       "      <th></th>\n",
       "      <th>app</th>\n",
       "      <th>channel</th>\n",
       "      <th>device</th>\n",
       "      <th>os</th>\n",
       "      <th>hour</th>\n",
       "      <th>day</th>\n",
       "      <th>wday</th>\n",
       "      <th>qty</th>\n",
       "      <th>ip_app_count</th>\n",
       "      <th>ip_app_os_count</th>\n",
       "      <th>ip_count_enc</th>\n",
       "      <th>app_count_enc</th>\n",
       "      <th>device_count_enc</th>\n",
       "      <th>os_count_enc</th>\n",
       "      <th>hour_count_enc</th>\n",
       "      <th>channel_count_enc</th>\n",
       "    </tr>\n",
       "  </thead>\n",
       "  <tbody>\n",
       "    <tr>\n",
       "      <th>0</th>\n",
       "      <td>11</td>\n",
       "      <td>487</td>\n",
       "      <td>1</td>\n",
       "      <td>13</td>\n",
       "      <td>0</td>\n",
       "      <td>9</td>\n",
       "      <td>3</td>\n",
       "      <td>70</td>\n",
       "      <td>56</td>\n",
       "      <td>13</td>\n",
       "      <td>973</td>\n",
       "      <td>1164213</td>\n",
       "      <td>49891688</td>\n",
       "      <td>11284964</td>\n",
       "      <td>3318301</td>\n",
       "      <td>108393</td>\n",
       "    </tr>\n",
       "    <tr>\n",
       "      <th>1</th>\n",
       "      <td>2</td>\n",
       "      <td>469</td>\n",
       "      <td>1</td>\n",
       "      <td>13</td>\n",
       "      <td>0</td>\n",
       "      <td>9</td>\n",
       "      <td>3</td>\n",
       "      <td>54</td>\n",
       "      <td>68</td>\n",
       "      <td>8</td>\n",
       "      <td>836</td>\n",
       "      <td>6059213</td>\n",
       "      <td>49891688</td>\n",
       "      <td>11284964</td>\n",
       "      <td>3318301</td>\n",
       "      <td>715197</td>\n",
       "    </tr>\n",
       "    <tr>\n",
       "      <th>2</th>\n",
       "      <td>26</td>\n",
       "      <td>477</td>\n",
       "      <td>1</td>\n",
       "      <td>19</td>\n",
       "      <td>0</td>\n",
       "      <td>9</td>\n",
       "      <td>3</td>\n",
       "      <td>101</td>\n",
       "      <td>27</td>\n",
       "      <td>13</td>\n",
       "      <td>1079</td>\n",
       "      <td>1025214</td>\n",
       "      <td>49891688</td>\n",
       "      <td>12537977</td>\n",
       "      <td>3318301</td>\n",
       "      <td>1973977</td>\n",
       "    </tr>\n",
       "    <tr>\n",
       "      <th>3</th>\n",
       "      <td>18</td>\n",
       "      <td>121</td>\n",
       "      <td>1</td>\n",
       "      <td>8</td>\n",
       "      <td>0</td>\n",
       "      <td>9</td>\n",
       "      <td>3</td>\n",
       "      <td>146</td>\n",
       "      <td>214</td>\n",
       "      <td>10</td>\n",
       "      <td>1864</td>\n",
       "      <td>4773490</td>\n",
       "      <td>49891688</td>\n",
       "      <td>1511197</td>\n",
       "      <td>3318301</td>\n",
       "      <td>1294239</td>\n",
       "    </tr>\n",
       "    <tr>\n",
       "      <th>4</th>\n",
       "      <td>12</td>\n",
       "      <td>265</td>\n",
       "      <td>1</td>\n",
       "      <td>19</td>\n",
       "      <td>0</td>\n",
       "      <td>9</td>\n",
       "      <td>3</td>\n",
       "      <td>393</td>\n",
       "      <td>1423</td>\n",
       "      <td>351</td>\n",
       "      <td>8677</td>\n",
       "      <td>6349572</td>\n",
       "      <td>49891688</td>\n",
       "      <td>12537977</td>\n",
       "      <td>3318301</td>\n",
       "      <td>1598648</td>\n",
       "    </tr>\n",
       "  </tbody>\n",
       "</table>\n",
       "</div>"
      ],
      "text/plain": [
       "   app  channel  device  os  hour  day  wday  qty  ip_app_count  \\\n",
       "0   11      487       1  13     0    9     3   70            56   \n",
       "1    2      469       1  13     0    9     3   54            68   \n",
       "2   26      477       1  19     0    9     3  101            27   \n",
       "3   18      121       1   8     0    9     3  146           214   \n",
       "4   12      265       1  19     0    9     3  393          1423   \n",
       "\n",
       "   ip_app_os_count  ip_count_enc  app_count_enc  device_count_enc  \\\n",
       "0               13           973        1164213          49891688   \n",
       "1                8           836        6059213          49891688   \n",
       "2               13          1079        1025214          49891688   \n",
       "3               10          1864        4773490          49891688   \n",
       "4              351          8677        6349572          49891688   \n",
       "\n",
       "   os_count_enc  hour_count_enc  channel_count_enc  \n",
       "0      11284964         3318301             108393  \n",
       "1      11284964         3318301             715197  \n",
       "2      12537977         3318301            1973977  \n",
       "3       1511197         3318301            1294239  \n",
       "4      12537977         3318301            1598648  "
      ]
     },
     "execution_count": 172,
     "metadata": {},
     "output_type": "execute_result"
    }
   ],
   "source": [
    "train_df.head()"
   ]
  },
  {
   "cell_type": "code",
   "execution_count": null,
   "metadata": {},
   "outputs": [],
   "source": []
  },
  {
   "cell_type": "code",
   "execution_count": 164,
   "metadata": {},
   "outputs": [
    {
     "data": {
      "text/plain": [
       "1988.1351"
      ]
     },
     "execution_count": 164,
     "metadata": {},
     "output_type": "execute_result"
    }
   ],
   "source": [
    "len(X_train)/20000"
   ]
  },
  {
   "cell_type": "code",
   "execution_count": null,
   "metadata": {},
   "outputs": [
    {
     "name": "stdout",
     "output_type": "stream",
     "text": [
      "Epoch 1/1\n"
     ]
    }
   ],
   "source": [
    "from keras import backend as K\n",
    "K.clear_session()\n",
    "self_model=get_model()\n",
    "self_model.fit_generator(generator(X_train, y_train, 4000), epochs=1, steps_per_epoch= 20,\n",
    "               callbacks=[roc_callback(training_data=(X_train, y_train),validation_data=(X_test, y_test))])"
   ]
  },
  {
   "cell_type": "code",
   "execution_count": 180,
   "metadata": {},
   "outputs": [
    {
     "data": {
      "text/plain": [
       "122152"
      ]
     },
     "execution_count": 180,
     "metadata": {},
     "output_type": "execute_result"
    }
   ],
   "source": [
    "gc.collect()"
   ]
  },
  {
   "cell_type": "code",
   "execution_count": 181,
   "metadata": {},
   "outputs": [
    {
     "data": {
      "text/plain": [
       "1207"
      ]
     },
     "execution_count": 181,
     "metadata": {},
     "output_type": "execute_result"
    }
   ],
   "source": [
    "del train_df\n",
    "gc.collect()"
   ]
  },
  {
   "cell_type": "code",
   "execution_count": 110,
   "metadata": {},
   "outputs": [],
   "source": [
    "from sklearn.metrics import roc_auc_score\n",
    "class roc_callback(Callback):\n",
    "    def __init__(self,training_data,validation_data):\n",
    "        self.x = training_data[0]\n",
    "        self.y = training_data[1]\n",
    "        self.x_val = validation_data[0]\n",
    "        self.y_val = validation_data[1]\n",
    "\n",
    "\n",
    "    def on_train_begin(self, logs={}):\n",
    "        return\n",
    "\n",
    "    def on_train_end(self, logs={}):\n",
    "        return\n",
    "\n",
    "    def on_epoch_begin(self, epoch, logs={}):\n",
    "        return\n",
    "\n",
    "    def on_epoch_end(self, epoch, logs={}):\n",
    "        y_pred = self.model.predict(self.x)\n",
    "        roc = roc_auc_score(self.y, y_pred)\n",
    "        y_pred_val = self.model.predict(self.x_val)\n",
    "        roc_val = roc_auc_score(self.y_val, y_pred_val)\n",
    "        print('\\rroc-auc: %s - roc-auc_val: %s' % (str(round(roc,4)),str(round(roc_val,4))),end=100*' '+'\\n')\n",
    "        return\n",
    "\n",
    "    def on_batch_begin(self, batch, logs={}):\n",
    "        return\n",
    "\n",
    "    def on_batch_end(self, batch, logs={}):\n",
    "        return"
   ]
  },
  {
   "cell_type": "code",
   "execution_count": null,
   "metadata": {},
   "outputs": [],
   "source": []
  }
 ],
 "metadata": {
  "kernelspec": {
   "display_name": "Environment (conda_tensorflow_p36)",
   "language": "python",
   "name": "conda_tensorflow_p36"
  },
  "language_info": {
   "codemirror_mode": {
    "name": "ipython",
    "version": 3
   },
   "file_extension": ".py",
   "mimetype": "text/x-python",
   "name": "python",
   "nbconvert_exporter": "python",
   "pygments_lexer": "ipython3",
   "version": "3.6.3"
  }
 },
 "nbformat": 4,
 "nbformat_minor": 2
}
