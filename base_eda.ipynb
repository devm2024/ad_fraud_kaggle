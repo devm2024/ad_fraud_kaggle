{
 "cells": [
  {
   "cell_type": "code",
   "execution_count": 1,
   "metadata": {
    "collapsed": true
   },
   "outputs": [],
   "source": [
    "import pandas as pd\n",
    "from datetime import datetime\n",
    "import dask.dataframe as dd\n",
    "import numpy as np\n",
    "%matplotlib inline"
   ]
  },
  {
   "cell_type": "code",
   "execution_count": 2,
   "metadata": {
    "collapsed": true
   },
   "outputs": [],
   "source": [
    "dtypes = {\n",
    "        'ip'            : 'uint32',\n",
    "        'app'           : 'uint16',\n",
    "        'device'        : 'uint16',\n",
    "        'os'            : 'uint16',\n",
    "        'channel'       : 'uint16',\n",
    "        'is_attributed' : 'uint8',\n",
    "        'click_id'      : 'uint32'\n",
    "        }"
   ]
  },
  {
   "cell_type": "code",
   "execution_count": 3,
   "metadata": {
    "collapsed": true
   },
   "outputs": [],
   "source": [
    "data = dd.read_csv('train.csv',dtype=dtypes,low_memory=False)"
   ]
  },
  {
   "cell_type": "code",
   "execution_count": 4,
   "metadata": {},
   "outputs": [
    {
     "data": {
      "text/html": [
       "<div>\n",
       "<style>\n",
       "    .dataframe thead tr:only-child th {\n",
       "        text-align: right;\n",
       "    }\n",
       "\n",
       "    .dataframe thead th {\n",
       "        text-align: left;\n",
       "    }\n",
       "\n",
       "    .dataframe tbody tr th {\n",
       "        vertical-align: top;\n",
       "    }\n",
       "</style>\n",
       "<table border=\"1\" class=\"dataframe\">\n",
       "  <thead>\n",
       "    <tr style=\"text-align: right;\">\n",
       "      <th></th>\n",
       "      <th>ip</th>\n",
       "      <th>app</th>\n",
       "      <th>device</th>\n",
       "      <th>os</th>\n",
       "      <th>channel</th>\n",
       "      <th>click_time</th>\n",
       "      <th>attributed_time</th>\n",
       "      <th>is_attributed</th>\n",
       "    </tr>\n",
       "  </thead>\n",
       "  <tbody>\n",
       "    <tr>\n",
       "      <th>0</th>\n",
       "      <td>83230</td>\n",
       "      <td>3</td>\n",
       "      <td>1</td>\n",
       "      <td>13</td>\n",
       "      <td>379</td>\n",
       "      <td>2017-11-06 14:32:21</td>\n",
       "      <td>NaN</td>\n",
       "      <td>0</td>\n",
       "    </tr>\n",
       "    <tr>\n",
       "      <th>1</th>\n",
       "      <td>17357</td>\n",
       "      <td>3</td>\n",
       "      <td>1</td>\n",
       "      <td>19</td>\n",
       "      <td>379</td>\n",
       "      <td>2017-11-06 14:33:34</td>\n",
       "      <td>NaN</td>\n",
       "      <td>0</td>\n",
       "    </tr>\n",
       "    <tr>\n",
       "      <th>2</th>\n",
       "      <td>35810</td>\n",
       "      <td>3</td>\n",
       "      <td>1</td>\n",
       "      <td>13</td>\n",
       "      <td>379</td>\n",
       "      <td>2017-11-06 14:34:12</td>\n",
       "      <td>NaN</td>\n",
       "      <td>0</td>\n",
       "    </tr>\n",
       "    <tr>\n",
       "      <th>3</th>\n",
       "      <td>45745</td>\n",
       "      <td>14</td>\n",
       "      <td>1</td>\n",
       "      <td>13</td>\n",
       "      <td>478</td>\n",
       "      <td>2017-11-06 14:34:52</td>\n",
       "      <td>NaN</td>\n",
       "      <td>0</td>\n",
       "    </tr>\n",
       "    <tr>\n",
       "      <th>4</th>\n",
       "      <td>161007</td>\n",
       "      <td>3</td>\n",
       "      <td>1</td>\n",
       "      <td>13</td>\n",
       "      <td>379</td>\n",
       "      <td>2017-11-06 14:35:08</td>\n",
       "      <td>NaN</td>\n",
       "      <td>0</td>\n",
       "    </tr>\n",
       "    <tr>\n",
       "      <th>5</th>\n",
       "      <td>18787</td>\n",
       "      <td>3</td>\n",
       "      <td>1</td>\n",
       "      <td>16</td>\n",
       "      <td>379</td>\n",
       "      <td>2017-11-06 14:36:26</td>\n",
       "      <td>NaN</td>\n",
       "      <td>0</td>\n",
       "    </tr>\n",
       "    <tr>\n",
       "      <th>6</th>\n",
       "      <td>103022</td>\n",
       "      <td>3</td>\n",
       "      <td>1</td>\n",
       "      <td>23</td>\n",
       "      <td>379</td>\n",
       "      <td>2017-11-06 14:37:44</td>\n",
       "      <td>NaN</td>\n",
       "      <td>0</td>\n",
       "    </tr>\n",
       "    <tr>\n",
       "      <th>7</th>\n",
       "      <td>114221</td>\n",
       "      <td>3</td>\n",
       "      <td>1</td>\n",
       "      <td>19</td>\n",
       "      <td>379</td>\n",
       "      <td>2017-11-06 14:37:59</td>\n",
       "      <td>NaN</td>\n",
       "      <td>0</td>\n",
       "    </tr>\n",
       "    <tr>\n",
       "      <th>8</th>\n",
       "      <td>165970</td>\n",
       "      <td>3</td>\n",
       "      <td>1</td>\n",
       "      <td>13</td>\n",
       "      <td>379</td>\n",
       "      <td>2017-11-06 14:38:10</td>\n",
       "      <td>NaN</td>\n",
       "      <td>0</td>\n",
       "    </tr>\n",
       "    <tr>\n",
       "      <th>9</th>\n",
       "      <td>74544</td>\n",
       "      <td>64</td>\n",
       "      <td>1</td>\n",
       "      <td>22</td>\n",
       "      <td>459</td>\n",
       "      <td>2017-11-06 14:38:23</td>\n",
       "      <td>NaN</td>\n",
       "      <td>0</td>\n",
       "    </tr>\n",
       "    <tr>\n",
       "      <th>10</th>\n",
       "      <td>172522</td>\n",
       "      <td>3</td>\n",
       "      <td>1</td>\n",
       "      <td>25</td>\n",
       "      <td>379</td>\n",
       "      <td>2017-11-06 14:38:27</td>\n",
       "      <td>NaN</td>\n",
       "      <td>0</td>\n",
       "    </tr>\n",
       "    <tr>\n",
       "      <th>11</th>\n",
       "      <td>105861</td>\n",
       "      <td>3</td>\n",
       "      <td>1</td>\n",
       "      <td>13</td>\n",
       "      <td>379</td>\n",
       "      <td>2017-11-06 14:38:51</td>\n",
       "      <td>NaN</td>\n",
       "      <td>0</td>\n",
       "    </tr>\n",
       "    <tr>\n",
       "      <th>12</th>\n",
       "      <td>210962</td>\n",
       "      <td>3</td>\n",
       "      <td>1</td>\n",
       "      <td>19</td>\n",
       "      <td>379</td>\n",
       "      <td>2017-11-06 14:39:29</td>\n",
       "      <td>NaN</td>\n",
       "      <td>0</td>\n",
       "    </tr>\n",
       "    <tr>\n",
       "      <th>13</th>\n",
       "      <td>124979</td>\n",
       "      <td>3</td>\n",
       "      <td>1</td>\n",
       "      <td>18</td>\n",
       "      <td>379</td>\n",
       "      <td>2017-11-06 14:40:16</td>\n",
       "      <td>NaN</td>\n",
       "      <td>0</td>\n",
       "    </tr>\n",
       "    <tr>\n",
       "      <th>14</th>\n",
       "      <td>38816</td>\n",
       "      <td>3</td>\n",
       "      <td>1</td>\n",
       "      <td>18</td>\n",
       "      <td>379</td>\n",
       "      <td>2017-11-06 14:40:39</td>\n",
       "      <td>NaN</td>\n",
       "      <td>0</td>\n",
       "    </tr>\n",
       "    <tr>\n",
       "      <th>15</th>\n",
       "      <td>80447</td>\n",
       "      <td>3</td>\n",
       "      <td>1</td>\n",
       "      <td>19</td>\n",
       "      <td>379</td>\n",
       "      <td>2017-11-06 14:40:51</td>\n",
       "      <td>NaN</td>\n",
       "      <td>0</td>\n",
       "    </tr>\n",
       "    <tr>\n",
       "      <th>16</th>\n",
       "      <td>134575</td>\n",
       "      <td>3</td>\n",
       "      <td>1</td>\n",
       "      <td>13</td>\n",
       "      <td>379</td>\n",
       "      <td>2017-11-06 14:43:10</td>\n",
       "      <td>NaN</td>\n",
       "      <td>0</td>\n",
       "    </tr>\n",
       "    <tr>\n",
       "      <th>17</th>\n",
       "      <td>57576</td>\n",
       "      <td>3</td>\n",
       "      <td>1</td>\n",
       "      <td>19</td>\n",
       "      <td>379</td>\n",
       "      <td>2017-11-06 14:43:14</td>\n",
       "      <td>NaN</td>\n",
       "      <td>0</td>\n",
       "    </tr>\n",
       "    <tr>\n",
       "      <th>18</th>\n",
       "      <td>7755</td>\n",
       "      <td>3</td>\n",
       "      <td>1</td>\n",
       "      <td>13</td>\n",
       "      <td>379</td>\n",
       "      <td>2017-11-06 14:43:25</td>\n",
       "      <td>NaN</td>\n",
       "      <td>0</td>\n",
       "    </tr>\n",
       "    <tr>\n",
       "      <th>19</th>\n",
       "      <td>91749</td>\n",
       "      <td>3</td>\n",
       "      <td>1</td>\n",
       "      <td>19</td>\n",
       "      <td>379</td>\n",
       "      <td>2017-11-06 14:43:51</td>\n",
       "      <td>NaN</td>\n",
       "      <td>0</td>\n",
       "    </tr>\n",
       "  </tbody>\n",
       "</table>\n",
       "</div>"
      ],
      "text/plain": [
       "        ip  app  device  os  channel           click_time attributed_time  \\\n",
       "0    83230    3       1  13      379  2017-11-06 14:32:21             NaN   \n",
       "1    17357    3       1  19      379  2017-11-06 14:33:34             NaN   \n",
       "2    35810    3       1  13      379  2017-11-06 14:34:12             NaN   \n",
       "3    45745   14       1  13      478  2017-11-06 14:34:52             NaN   \n",
       "4   161007    3       1  13      379  2017-11-06 14:35:08             NaN   \n",
       "5    18787    3       1  16      379  2017-11-06 14:36:26             NaN   \n",
       "6   103022    3       1  23      379  2017-11-06 14:37:44             NaN   \n",
       "7   114221    3       1  19      379  2017-11-06 14:37:59             NaN   \n",
       "8   165970    3       1  13      379  2017-11-06 14:38:10             NaN   \n",
       "9    74544   64       1  22      459  2017-11-06 14:38:23             NaN   \n",
       "10  172522    3       1  25      379  2017-11-06 14:38:27             NaN   \n",
       "11  105861    3       1  13      379  2017-11-06 14:38:51             NaN   \n",
       "12  210962    3       1  19      379  2017-11-06 14:39:29             NaN   \n",
       "13  124979    3       1  18      379  2017-11-06 14:40:16             NaN   \n",
       "14   38816    3       1  18      379  2017-11-06 14:40:39             NaN   \n",
       "15   80447    3       1  19      379  2017-11-06 14:40:51             NaN   \n",
       "16  134575    3       1  13      379  2017-11-06 14:43:10             NaN   \n",
       "17   57576    3       1  19      379  2017-11-06 14:43:14             NaN   \n",
       "18    7755    3       1  13      379  2017-11-06 14:43:25             NaN   \n",
       "19   91749    3       1  19      379  2017-11-06 14:43:51             NaN   \n",
       "\n",
       "    is_attributed  \n",
       "0               0  \n",
       "1               0  \n",
       "2               0  \n",
       "3               0  \n",
       "4               0  \n",
       "5               0  \n",
       "6               0  \n",
       "7               0  \n",
       "8               0  \n",
       "9               0  \n",
       "10              0  \n",
       "11              0  \n",
       "12              0  \n",
       "13              0  \n",
       "14              0  \n",
       "15              0  \n",
       "16              0  \n",
       "17              0  \n",
       "18              0  \n",
       "19              0  "
      ]
     },
     "execution_count": 4,
     "metadata": {},
     "output_type": "execute_result"
    }
   ],
   "source": [
    "data.head(20)"
   ]
  },
  {
   "cell_type": "code",
   "execution_count": 6,
   "metadata": {},
   "outputs": [
    {
     "data": {
      "text/plain": [
       "0    184447044\n",
       "1       456846\n",
       "Name: is_attributed, dtype: int64"
      ]
     },
     "execution_count": 6,
     "metadata": {},
     "output_type": "execute_result"
    }
   ],
   "source": [
    "data.is_attributed.value_counts().compute()"
   ]
  },
  {
   "cell_type": "code",
   "execution_count": 7,
   "metadata": {},
   "outputs": [
    {
     "data": {
      "text/plain": [
       "706"
      ]
     },
     "execution_count": 7,
     "metadata": {},
     "output_type": "execute_result"
    }
   ],
   "source": [
    "len(data.app.unique()) #706"
   ]
  },
  {
   "cell_type": "code",
   "execution_count": 8,
   "metadata": {},
   "outputs": [
    {
     "data": {
      "text/plain": [
       "3475"
      ]
     },
     "execution_count": 8,
     "metadata": {},
     "output_type": "execute_result"
    }
   ],
   "source": [
    "len(data.device.unique()) #3475"
   ]
  },
  {
   "cell_type": "code",
   "execution_count": 9,
   "metadata": {},
   "outputs": [
    {
     "data": {
      "text/plain": [
       "277396"
      ]
     },
     "execution_count": 9,
     "metadata": {},
     "output_type": "execute_result"
    }
   ],
   "source": [
    "len(data.ip.unique()) #277396"
   ]
  },
  {
   "cell_type": "code",
   "execution_count": 10,
   "metadata": {},
   "outputs": [
    {
     "data": {
      "text/plain": [
       "202"
      ]
     },
     "execution_count": 10,
     "metadata": {},
     "output_type": "execute_result"
    }
   ],
   "source": [
    "len(data.channel.unique()) #202"
   ]
  },
  {
   "cell_type": "code",
   "execution_count": 11,
   "metadata": {},
   "outputs": [
    {
     "data": {
      "text/plain": [
       "800"
      ]
     },
     "execution_count": 11,
     "metadata": {},
     "output_type": "execute_result"
    }
   ],
   "source": [
    "len(data.os.unique()) #800"
   ]
  },
  {
   "cell_type": "code",
   "execution_count": 11,
   "metadata": {
    "collapsed": true
   },
   "outputs": [],
   "source": [
    "clicked_data = data[data.is_attributed==1]"
   ]
  },
  {
   "cell_type": "code",
   "execution_count": 20,
   "metadata": {
    "collapsed": true
   },
   "outputs": [],
   "source": [
    "from datetime import datetime\n",
    "def tim_diff(row):\n",
    "    x1= row['click_time']\n",
    "    x2 = row['attributed_time']\n",
    "    fmt = '%Y-%m-%d %H:%M:%S'\n",
    "    tstamp1 = datetime.strptime(x1, fmt)\n",
    "    tstamp2 = datetime.strptime(x2, fmt)\n",
    "    td = tstamp2 - tstamp1\n",
    "    td_mins = int(round(td.total_seconds() / 60.))\n",
    "    return td_mins"
   ]
  },
  {
   "cell_type": "code",
   "execution_count": 7,
   "metadata": {
    "collapsed": true
   },
   "outputs": [],
   "source": [
    "clicked_data['att_diff']  = clicked_data.apply(tim_diff,axis=1,meta=('x', str))"
   ]
  },
  {
   "cell_type": "code",
   "execution_count": 74,
   "metadata": {},
   "outputs": [
    {
     "data": {
      "text/plain": [
       "<matplotlib.axes._subplots.AxesSubplot at 0x7fd394394b38>"
      ]
     },
     "execution_count": 74,
     "metadata": {},
     "output_type": "execute_result"
    },
    {
     "data": {
      "image/png": "[encoded data removed]",
      "text/plain": [
       "<matplotlib.figure.Figure at 0x7fd37e10ba20>"
      ]
     },
     "metadata": {},
     "output_type": "display_data"
    }
   ],
   "source": [
    "clicked_data[clicked_data.att_diff.astype(int)<60].att_diff.compute().hist(bins =100, figsize=(20,10))"
   ]
  },
  {
   "cell_type": "code",
   "execution_count": 75,
   "metadata": {},
   "outputs": [
    {
     "data": {
      "text/plain": [
       "<matplotlib.axes._subplots.AxesSubplot at 0x7fd3748ebcf8>"
      ]
     },
     "execution_count": 75,
     "metadata": {},
     "output_type": "execute_result"
    },
    {
     "data": {
      "image/png": "[encoded data removed]",
      "text/plain": [
       "<matplotlib.figure.Figure at 0x7fd37f302c50>"
      ]
     },
     "metadata": {},
     "output_type": "display_data"
    }
   ],
   "source": [
    "clicked_data.att_diff.astype(int).compute().hist(bins =100, figsize=(20,10))"
   ]
  },
  {
   "cell_type": "code",
   "execution_count": 80,
   "metadata": {},
   "outputs": [
    {
     "data": {
      "text/plain": [
       "ip                 50305\n",
       "app                50305\n",
       "device             50305\n",
       "os                 50305\n",
       "channel            50305\n",
       "click_time         50305\n",
       "attributed_time    50305\n",
       "is_attributed      50305\n",
       "att_diff           50305\n",
       "dtype: int64"
      ]
     },
     "execution_count": 80,
     "metadata": {},
     "output_type": "execute_result"
    }
   ],
   "source": [
    "clicked_data[clicked_data.att_diff==0].count().compute()"
   ]
  },
  {
   "cell_type": "code",
   "execution_count": 5,
   "metadata": {
    "collapsed": true
   },
   "outputs": [],
   "source": [
    "from datetime import datetime\n",
    "def tim_diff2(x):\n",
    "    x2 = '2017-11-09 16:00:00'\n",
    "    fmt = '%Y-%m-%d %H:%M:%S'\n",
    "    tstamp1 = datetime.strptime(x, fmt)\n",
    "    tstamp2 = datetime.strptime(x2, fmt)\n",
    "    td = tstamp2 - tstamp1\n",
    "    td_mins = int(round(td.total_seconds() / 60.))\n",
    "    return td_mins"
   ]
  },
  {
   "cell_type": "code",
   "execution_count": 7,
   "metadata": {},
   "outputs": [
    {
     "data": {
      "text/plain": [
       "4406"
      ]
     },
     "execution_count": 7,
     "metadata": {},
     "output_type": "execute_result"
    }
   ],
   "source": [
    "tim_diff2('2017-11-06 14:33:34')"
   ]
  },
  {
   "cell_type": "code",
   "execution_count": 8,
   "metadata": {
    "collapsed": true
   },
   "outputs": [],
   "source": [
    "data['cuttoff_time'] = data.click_time.apply(tim_diff2,meta=('x', str)) "
   ]
  },
  {
   "cell_type": "code",
   "execution_count": 9,
   "metadata": {},
   "outputs": [
    {
     "data": {
      "text/html": [
       "<div>\n",
       "<style>\n",
       "    .dataframe thead tr:only-child th {\n",
       "        text-align: right;\n",
       "    }\n",
       "\n",
       "    .dataframe thead th {\n",
       "        text-align: left;\n",
       "    }\n",
       "\n",
       "    .dataframe tbody tr th {\n",
       "        vertical-align: top;\n",
       "    }\n",
       "</style>\n",
       "<table border=\"1\" class=\"dataframe\">\n",
       "  <thead>\n",
       "    <tr style=\"text-align: right;\">\n",
       "      <th></th>\n",
       "      <th>ip</th>\n",
       "      <th>app</th>\n",
       "      <th>device</th>\n",
       "      <th>os</th>\n",
       "      <th>channel</th>\n",
       "      <th>click_time</th>\n",
       "      <th>attributed_time</th>\n",
       "      <th>is_attributed</th>\n",
       "      <th>cuttoff_time</th>\n",
       "    </tr>\n",
       "  </thead>\n",
       "  <tbody>\n",
       "    <tr>\n",
       "      <th>1220047</th>\n",
       "      <td>121312</td>\n",
       "      <td>12</td>\n",
       "      <td>1</td>\n",
       "      <td>10</td>\n",
       "      <td>340</td>\n",
       "      <td>2017-11-09 16:00:00</td>\n",
       "      <td>NaN</td>\n",
       "      <td>0</td>\n",
       "      <td>0</td>\n",
       "    </tr>\n",
       "    <tr>\n",
       "      <th>1220048</th>\n",
       "      <td>46894</td>\n",
       "      <td>3</td>\n",
       "      <td>1</td>\n",
       "      <td>19</td>\n",
       "      <td>211</td>\n",
       "      <td>2017-11-09 16:00:00</td>\n",
       "      <td>NaN</td>\n",
       "      <td>0</td>\n",
       "      <td>0</td>\n",
       "    </tr>\n",
       "    <tr>\n",
       "      <th>1220049</th>\n",
       "      <td>320126</td>\n",
       "      <td>1</td>\n",
       "      <td>1</td>\n",
       "      <td>13</td>\n",
       "      <td>274</td>\n",
       "      <td>2017-11-09 16:00:00</td>\n",
       "      <td>NaN</td>\n",
       "      <td>0</td>\n",
       "      <td>0</td>\n",
       "    </tr>\n",
       "    <tr>\n",
       "      <th>1220050</th>\n",
       "      <td>189286</td>\n",
       "      <td>12</td>\n",
       "      <td>1</td>\n",
       "      <td>37</td>\n",
       "      <td>259</td>\n",
       "      <td>2017-11-09 16:00:00</td>\n",
       "      <td>NaN</td>\n",
       "      <td>0</td>\n",
       "      <td>0</td>\n",
       "    </tr>\n",
       "    <tr>\n",
       "      <th>1220051</th>\n",
       "      <td>106485</td>\n",
       "      <td>11</td>\n",
       "      <td>1</td>\n",
       "      <td>19</td>\n",
       "      <td>137</td>\n",
       "      <td>2017-11-09 16:00:00</td>\n",
       "      <td>NaN</td>\n",
       "      <td>0</td>\n",
       "      <td>0</td>\n",
       "    </tr>\n",
       "  </tbody>\n",
       "</table>\n",
       "</div>"
      ],
      "text/plain": [
       "             ip  app  device  os  channel           click_time  \\\n",
       "1220047  121312   12       1  10      340  2017-11-09 16:00:00   \n",
       "1220048   46894    3       1  19      211  2017-11-09 16:00:00   \n",
       "1220049  320126    1       1  13      274  2017-11-09 16:00:00   \n",
       "1220050  189286   12       1  37      259  2017-11-09 16:00:00   \n",
       "1220051  106485   11       1  19      137  2017-11-09 16:00:00   \n",
       "\n",
       "        attributed_time  is_attributed  cuttoff_time  \n",
       "1220047             NaN              0             0  \n",
       "1220048             NaN              0             0  \n",
       "1220049             NaN              0             0  \n",
       "1220050             NaN              0             0  \n",
       "1220051             NaN              0             0  "
      ]
     },
     "execution_count": 9,
     "metadata": {},
     "output_type": "execute_result"
    }
   ],
   "source": [
    "data.tail()"
   ]
  },
  {
   "cell_type": "code",
   "execution_count": 9,
   "metadata": {},
   "outputs": [
    {
     "data": {
      "text/plain": [
       "<matplotlib.axes._subplots.AxesSubplot at 0x7f7ed46206a0>"
      ]
     },
     "execution_count": 9,
     "metadata": {},
     "output_type": "execute_result"
    },
    {
     "data": {
      "image/png": "[encoded data removed]",
      "text/plain": [
       "<matplotlib.figure.Figure at 0x7f7f343c0400>"
      ]
     },
     "metadata": {},
     "output_type": "display_data"
    }
   ],
   "source": [
    "sam = data.sample(0.05).compute()\n",
    "sam['cuttoff_time'] = sam.click_time.apply(tim_diff2)\n",
    "sam.cuttoff_time.hist(bins=100, figsize=(20,10))"
   ]
  },
  {
   "cell_type": "code",
   "execution_count": 18,
   "metadata": {},
   "outputs": [
    {
     "data": {
      "text/plain": [
       "<matplotlib.axes._subplots.AxesSubplot at 0x7f7f1878edd8>"
      ]
     },
     "execution_count": 18,
     "metadata": {},
     "output_type": "execute_result"
    },
    {
     "data": {
      "image/png": "[encoded data removed]",
      "text/plain": [
       "<matplotlib.figure.Figure at 0x7f7f343c0550>"
      ]
     },
     "metadata": {},
     "output_type": "display_data"
    }
   ],
   "source": [
    "clicked_data['cuttoff_time'] = clicked_data.click_time.apply(tim_diff2,meta=('x', str))\n",
    "clicked_data.cuttoff_time.compute().hist(bins=100, figsize=(20,10))"
   ]
  },
  {
   "cell_type": "code",
   "execution_count": 23,
   "metadata": {
    "collapsed": true
   },
   "outputs": [],
   "source": [
    "clicked_data['conv_diff'] = clicked_data.apply(tim_diff, axis=1,meta=('x', str))"
   ]
  },
  {
   "cell_type": "code",
   "execution_count": 25,
   "metadata": {},
   "outputs": [
    {
     "data": {
      "text/plain": [
       "<matplotlib.axes._subplots.AxesSubplot at 0x7f7ef4488710>"
      ]
     },
     "execution_count": 25,
     "metadata": {},
     "output_type": "execute_result"
    },
    {
     "data": {
      "image/png": "[encoded data removed]",
      "text/plain": [
       "<matplotlib.figure.Figure at 0x7f7ed45edf60>"
      ]
     },
     "metadata": {},
     "output_type": "display_data"
    }
   ],
   "source": [
    "clicked_data.conv_diff.compute().hist(bins=100, figsize=(20,10))"
   ]
  },
  {
   "cell_type": "markdown",
   "metadata": {},
   "source": [
    "### Important observations:\n",
    "1. Most of the conversions are happening around 0-5 minutes after the ad was clicked\n",
    "2. There are delayed conversions also happening.\n",
    "3. For starting and ending day, all data is not available, so mean encoding is the way to go, or avoid the target encoding for the day.\n",
    "Options:\n",
    "1. remove the last 2 hours obeservation by click_time."
   ]
  },
  {
   "cell_type": "code",
   "execution_count": 56,
   "metadata": {},
   "outputs": [
    {
     "data": {
      "text/plain": [
       "('2017-11-06 14:32:21', '2017-11-09 16:00:00')"
      ]
     },
     "execution_count": 56,
     "metadata": {},
     "output_type": "execute_result"
    }
   ],
   "source": [
    "data.click_time.min().compute(), data.click_time.max().compute()"
   ]
  },
  {
   "cell_type": "code",
   "execution_count": 55,
   "metadata": {},
   "outputs": [
    {
     "data": {
      "text/plain": [
       "('2017-11-06 15:41:07', '2017-11-09 15:59:33')"
      ]
     },
     "execution_count": 55,
     "metadata": {},
     "output_type": "execute_result"
    }
   ],
   "source": [
    "clicked_data.click_time.min().compute(), clicked_data.click_time.max().compute() #'2017-11-06 15:41:07'"
   ]
  },
  {
   "cell_type": "code",
   "execution_count": 53,
   "metadata": {},
   "outputs": [
    {
     "data": {
      "text/plain": [
       "('2017-11-06 16:00:47', '2017-11-09 16:00:00')"
      ]
     },
     "execution_count": 53,
     "metadata": {},
     "output_type": "execute_result"
    }
   ],
   "source": [
    "clicked_data.attributed_time.min().compute(), clicked_data.attributed_time.max().compute()"
   ]
  },
  {
   "cell_type": "code",
   "execution_count": null,
   "metadata": {
    "collapsed": true
   },
   "outputs": [],
   "source": [
    "len(data[data.cuttoff_time.astype(int)==0])"
   ]
  },
  {
   "cell_type": "code",
   "execution_count": 57,
   "metadata": {},
   "outputs": [
    {
     "data": {
      "text/html": [
       "<div>\n",
       "<style>\n",
       "    .dataframe thead tr:only-child th {\n",
       "        text-align: right;\n",
       "    }\n",
       "\n",
       "    .dataframe thead th {\n",
       "        text-align: left;\n",
       "    }\n",
       "\n",
       "    .dataframe tbody tr th {\n",
       "        vertical-align: top;\n",
       "    }\n",
       "</style>\n",
       "<table border=\"1\" class=\"dataframe\">\n",
       "  <thead>\n",
       "    <tr style=\"text-align: right;\">\n",
       "      <th></th>\n",
       "      <th>ip</th>\n",
       "      <th>app</th>\n",
       "      <th>device</th>\n",
       "      <th>os</th>\n",
       "      <th>channel</th>\n",
       "      <th>click_time</th>\n",
       "      <th>attributed_time</th>\n",
       "      <th>is_attributed</th>\n",
       "      <th>cuttoff_time</th>\n",
       "      <th>conv_diff</th>\n",
       "    </tr>\n",
       "  </thead>\n",
       "  <tbody>\n",
       "    <tr>\n",
       "      <th>103</th>\n",
       "      <td>204158</td>\n",
       "      <td>35</td>\n",
       "      <td>1</td>\n",
       "      <td>13</td>\n",
       "      <td>21</td>\n",
       "      <td>2017-11-06 15:41:07</td>\n",
       "      <td>2017-11-07 08:17:19</td>\n",
       "      <td>1</td>\n",
       "      <td>4339</td>\n",
       "      <td>996</td>\n",
       "    </tr>\n",
       "    <tr>\n",
       "      <th>1504</th>\n",
       "      <td>29692</td>\n",
       "      <td>9</td>\n",
       "      <td>1</td>\n",
       "      <td>22</td>\n",
       "      <td>215</td>\n",
       "      <td>2017-11-06 16:00:02</td>\n",
       "      <td>2017-11-07 10:05:22</td>\n",
       "      <td>1</td>\n",
       "      <td>4320</td>\n",
       "      <td>1085</td>\n",
       "    </tr>\n",
       "    <tr>\n",
       "      <th>1798</th>\n",
       "      <td>64516</td>\n",
       "      <td>35</td>\n",
       "      <td>1</td>\n",
       "      <td>13</td>\n",
       "      <td>21</td>\n",
       "      <td>2017-11-06 16:00:02</td>\n",
       "      <td>2017-11-06 23:40:50</td>\n",
       "      <td>1</td>\n",
       "      <td>4320</td>\n",
       "      <td>461</td>\n",
       "    </tr>\n",
       "    <tr>\n",
       "      <th>2102</th>\n",
       "      <td>172429</td>\n",
       "      <td>35</td>\n",
       "      <td>1</td>\n",
       "      <td>46</td>\n",
       "      <td>274</td>\n",
       "      <td>2017-11-06 16:00:03</td>\n",
       "      <td>2017-11-07 00:55:29</td>\n",
       "      <td>1</td>\n",
       "      <td>4320</td>\n",
       "      <td>535</td>\n",
       "    </tr>\n",
       "    <tr>\n",
       "      <th>3056</th>\n",
       "      <td>199085</td>\n",
       "      <td>35</td>\n",
       "      <td>1</td>\n",
       "      <td>13</td>\n",
       "      <td>274</td>\n",
       "      <td>2017-11-06 16:00:04</td>\n",
       "      <td>2017-11-06 23:04:54</td>\n",
       "      <td>1</td>\n",
       "      <td>4320</td>\n",
       "      <td>425</td>\n",
       "    </tr>\n",
       "    <tr>\n",
       "      <th>3220</th>\n",
       "      <td>82917</td>\n",
       "      <td>19</td>\n",
       "      <td>0</td>\n",
       "      <td>24</td>\n",
       "      <td>210</td>\n",
       "      <td>2017-11-06 16:00:04</td>\n",
       "      <td>2017-11-07 00:21:50</td>\n",
       "      <td>1</td>\n",
       "      <td>4320</td>\n",
       "      <td>502</td>\n",
       "    </tr>\n",
       "    <tr>\n",
       "      <th>3939</th>\n",
       "      <td>126647</td>\n",
       "      <td>72</td>\n",
       "      <td>1</td>\n",
       "      <td>6</td>\n",
       "      <td>101</td>\n",
       "      <td>2017-11-06 16:00:05</td>\n",
       "      <td>2017-11-06 16:01:18</td>\n",
       "      <td>1</td>\n",
       "      <td>4320</td>\n",
       "      <td>1</td>\n",
       "    </tr>\n",
       "    <tr>\n",
       "      <th>5282</th>\n",
       "      <td>57546</td>\n",
       "      <td>29</td>\n",
       "      <td>1</td>\n",
       "      <td>41</td>\n",
       "      <td>213</td>\n",
       "      <td>2017-11-06 16:00:07</td>\n",
       "      <td>2017-11-06 16:03:51</td>\n",
       "      <td>1</td>\n",
       "      <td>4320</td>\n",
       "      <td>4</td>\n",
       "    </tr>\n",
       "    <tr>\n",
       "      <th>5377</th>\n",
       "      <td>189682</td>\n",
       "      <td>35</td>\n",
       "      <td>1</td>\n",
       "      <td>13</td>\n",
       "      <td>21</td>\n",
       "      <td>2017-11-06 16:00:07</td>\n",
       "      <td>2017-11-06 23:37:17</td>\n",
       "      <td>1</td>\n",
       "      <td>4320</td>\n",
       "      <td>457</td>\n",
       "    </tr>\n",
       "    <tr>\n",
       "      <th>5438</th>\n",
       "      <td>24200</td>\n",
       "      <td>19</td>\n",
       "      <td>88</td>\n",
       "      <td>24</td>\n",
       "      <td>213</td>\n",
       "      <td>2017-11-06 16:00:07</td>\n",
       "      <td>2017-11-07 04:18:51</td>\n",
       "      <td>1</td>\n",
       "      <td>4320</td>\n",
       "      <td>739</td>\n",
       "    </tr>\n",
       "    <tr>\n",
       "      <th>6511</th>\n",
       "      <td>206654</td>\n",
       "      <td>128</td>\n",
       "      <td>1</td>\n",
       "      <td>13</td>\n",
       "      <td>243</td>\n",
       "      <td>2017-11-06 16:00:09</td>\n",
       "      <td>2017-11-06 16:01:22</td>\n",
       "      <td>1</td>\n",
       "      <td>4320</td>\n",
       "      <td>1</td>\n",
       "    </tr>\n",
       "    <tr>\n",
       "      <th>6763</th>\n",
       "      <td>37801</td>\n",
       "      <td>29</td>\n",
       "      <td>1</td>\n",
       "      <td>19</td>\n",
       "      <td>213</td>\n",
       "      <td>2017-11-06 16:00:09</td>\n",
       "      <td>2017-11-06 16:01:27</td>\n",
       "      <td>1</td>\n",
       "      <td>4320</td>\n",
       "      <td>1</td>\n",
       "    </tr>\n",
       "    <tr>\n",
       "      <th>7391</th>\n",
       "      <td>152282</td>\n",
       "      <td>19</td>\n",
       "      <td>0</td>\n",
       "      <td>24</td>\n",
       "      <td>213</td>\n",
       "      <td>2017-11-06 16:00:10</td>\n",
       "      <td>2017-11-06 16:02:23</td>\n",
       "      <td>1</td>\n",
       "      <td>4320</td>\n",
       "      <td>2</td>\n",
       "    </tr>\n",
       "    <tr>\n",
       "      <th>7760</th>\n",
       "      <td>165595</td>\n",
       "      <td>19</td>\n",
       "      <td>379</td>\n",
       "      <td>24</td>\n",
       "      <td>213</td>\n",
       "      <td>2017-11-06 16:00:10</td>\n",
       "      <td>2017-11-07 11:55:44</td>\n",
       "      <td>1</td>\n",
       "      <td>4320</td>\n",
       "      <td>1196</td>\n",
       "    </tr>\n",
       "    <tr>\n",
       "      <th>7793</th>\n",
       "      <td>30314</td>\n",
       "      <td>8</td>\n",
       "      <td>1</td>\n",
       "      <td>19</td>\n",
       "      <td>140</td>\n",
       "      <td>2017-11-06 16:00:10</td>\n",
       "      <td>2017-11-07 03:28:19</td>\n",
       "      <td>1</td>\n",
       "      <td>4320</td>\n",
       "      <td>688</td>\n",
       "    </tr>\n",
       "    <tr>\n",
       "      <th>7899</th>\n",
       "      <td>1890</td>\n",
       "      <td>27</td>\n",
       "      <td>1</td>\n",
       "      <td>13</td>\n",
       "      <td>122</td>\n",
       "      <td>2017-11-06 16:00:11</td>\n",
       "      <td>2017-11-06 16:41:13</td>\n",
       "      <td>1</td>\n",
       "      <td>4320</td>\n",
       "      <td>41</td>\n",
       "    </tr>\n",
       "    <tr>\n",
       "      <th>7994</th>\n",
       "      <td>153540</td>\n",
       "      <td>2</td>\n",
       "      <td>1</td>\n",
       "      <td>19</td>\n",
       "      <td>213</td>\n",
       "      <td>2017-11-06 16:00:11</td>\n",
       "      <td>2017-11-06 16:02:59</td>\n",
       "      <td>1</td>\n",
       "      <td>4320</td>\n",
       "      <td>3</td>\n",
       "    </tr>\n",
       "    <tr>\n",
       "      <th>8046</th>\n",
       "      <td>163643</td>\n",
       "      <td>45</td>\n",
       "      <td>1</td>\n",
       "      <td>41</td>\n",
       "      <td>213</td>\n",
       "      <td>2017-11-06 16:00:11</td>\n",
       "      <td>2017-11-06 16:02:02</td>\n",
       "      <td>1</td>\n",
       "      <td>4320</td>\n",
       "      <td>2</td>\n",
       "    </tr>\n",
       "    <tr>\n",
       "      <th>8588</th>\n",
       "      <td>31494</td>\n",
       "      <td>8</td>\n",
       "      <td>1</td>\n",
       "      <td>19</td>\n",
       "      <td>145</td>\n",
       "      <td>2017-11-06 16:00:12</td>\n",
       "      <td>2017-11-07 04:33:48</td>\n",
       "      <td>1</td>\n",
       "      <td>4320</td>\n",
       "      <td>754</td>\n",
       "    </tr>\n",
       "    <tr>\n",
       "      <th>8923</th>\n",
       "      <td>155000</td>\n",
       "      <td>8</td>\n",
       "      <td>1</td>\n",
       "      <td>19</td>\n",
       "      <td>145</td>\n",
       "      <td>2017-11-06 16:00:12</td>\n",
       "      <td>2017-11-07 11:54:34</td>\n",
       "      <td>1</td>\n",
       "      <td>4320</td>\n",
       "      <td>1194</td>\n",
       "    </tr>\n",
       "  </tbody>\n",
       "</table>\n",
       "</div>"
      ],
      "text/plain": [
       "          ip  app  device  os  channel           click_time  \\\n",
       "103   204158   35       1  13       21  2017-11-06 15:41:07   \n",
       "1504   29692    9       1  22      215  2017-11-06 16:00:02   \n",
       "1798   64516   35       1  13       21  2017-11-06 16:00:02   \n",
       "2102  172429   35       1  46      274  2017-11-06 16:00:03   \n",
       "3056  199085   35       1  13      274  2017-11-06 16:00:04   \n",
       "3220   82917   19       0  24      210  2017-11-06 16:00:04   \n",
       "3939  126647   72       1   6      101  2017-11-06 16:00:05   \n",
       "5282   57546   29       1  41      213  2017-11-06 16:00:07   \n",
       "5377  189682   35       1  13       21  2017-11-06 16:00:07   \n",
       "5438   24200   19      88  24      213  2017-11-06 16:00:07   \n",
       "6511  206654  128       1  13      243  2017-11-06 16:00:09   \n",
       "6763   37801   29       1  19      213  2017-11-06 16:00:09   \n",
       "7391  152282   19       0  24      213  2017-11-06 16:00:10   \n",
       "7760  165595   19     379  24      213  2017-11-06 16:00:10   \n",
       "7793   30314    8       1  19      140  2017-11-06 16:00:10   \n",
       "7899    1890   27       1  13      122  2017-11-06 16:00:11   \n",
       "7994  153540    2       1  19      213  2017-11-06 16:00:11   \n",
       "8046  163643   45       1  41      213  2017-11-06 16:00:11   \n",
       "8588   31494    8       1  19      145  2017-11-06 16:00:12   \n",
       "8923  155000    8       1  19      145  2017-11-06 16:00:12   \n",
       "\n",
       "          attributed_time  is_attributed  cuttoff_time  conv_diff  \n",
       "103   2017-11-07 08:17:19              1          4339        996  \n",
       "1504  2017-11-07 10:05:22              1          4320       1085  \n",
       "1798  2017-11-06 23:40:50              1          4320        461  \n",
       "2102  2017-11-07 00:55:29              1          4320        535  \n",
       "3056  2017-11-06 23:04:54              1          4320        425  \n",
       "3220  2017-11-07 00:21:50              1          4320        502  \n",
       "3939  2017-11-06 16:01:18              1          4320          1  \n",
       "5282  2017-11-06 16:03:51              1          4320          4  \n",
       "5377  2017-11-06 23:37:17              1          4320        457  \n",
       "5438  2017-11-07 04:18:51              1          4320        739  \n",
       "6511  2017-11-06 16:01:22              1          4320          1  \n",
       "6763  2017-11-06 16:01:27              1          4320          1  \n",
       "7391  2017-11-06 16:02:23              1          4320          2  \n",
       "7760  2017-11-07 11:55:44              1          4320       1196  \n",
       "7793  2017-11-07 03:28:19              1          4320        688  \n",
       "7899  2017-11-06 16:41:13              1          4320         41  \n",
       "7994  2017-11-06 16:02:59              1          4320          3  \n",
       "8046  2017-11-06 16:02:02              1          4320          2  \n",
       "8588  2017-11-07 04:33:48              1          4320        754  \n",
       "8923  2017-11-07 11:54:34              1          4320       1194  "
      ]
     },
     "execution_count": 57,
     "metadata": {},
     "output_type": "execute_result"
    }
   ],
   "source": [
    "clicked_data.head(20)"
   ]
  },
  {
   "cell_type": "code",
   "execution_count": 54,
   "metadata": {},
   "outputs": [
    {
     "data": {
      "text/html": [
       "<div>\n",
       "<style>\n",
       "    .dataframe thead tr:only-child th {\n",
       "        text-align: right;\n",
       "    }\n",
       "\n",
       "    .dataframe thead th {\n",
       "        text-align: left;\n",
       "    }\n",
       "\n",
       "    .dataframe tbody tr th {\n",
       "        vertical-align: top;\n",
       "    }\n",
       "</style>\n",
       "<table border=\"1\" class=\"dataframe\">\n",
       "  <thead>\n",
       "    <tr style=\"text-align: right;\">\n",
       "      <th></th>\n",
       "      <th>ip</th>\n",
       "      <th>app</th>\n",
       "      <th>device</th>\n",
       "      <th>os</th>\n",
       "      <th>channel</th>\n",
       "      <th>click_time</th>\n",
       "      <th>attributed_time</th>\n",
       "      <th>is_attributed</th>\n",
       "      <th>cuttoff_time</th>\n",
       "      <th>conv_diff</th>\n",
       "    </tr>\n",
       "  </thead>\n",
       "  <tbody>\n",
       "    <tr>\n",
       "      <th>1170915</th>\n",
       "      <td>339381</td>\n",
       "      <td>105</td>\n",
       "      <td>1</td>\n",
       "      <td>3</td>\n",
       "      <td>451</td>\n",
       "      <td>2017-11-09 15:58:56</td>\n",
       "      <td>2017-11-09 15:59:53</td>\n",
       "      <td>1</td>\n",
       "      <td>1</td>\n",
       "      <td>1</td>\n",
       "    </tr>\n",
       "    <tr>\n",
       "      <th>1171170</th>\n",
       "      <td>341549</td>\n",
       "      <td>19</td>\n",
       "      <td>6</td>\n",
       "      <td>29</td>\n",
       "      <td>213</td>\n",
       "      <td>2017-11-09 15:58:57</td>\n",
       "      <td>2017-11-09 15:59:35</td>\n",
       "      <td>1</td>\n",
       "      <td>1</td>\n",
       "      <td>1</td>\n",
       "    </tr>\n",
       "    <tr>\n",
       "      <th>1171428</th>\n",
       "      <td>324258</td>\n",
       "      <td>19</td>\n",
       "      <td>0</td>\n",
       "      <td>0</td>\n",
       "      <td>213</td>\n",
       "      <td>2017-11-09 15:58:57</td>\n",
       "      <td>2017-11-09 15:59:46</td>\n",
       "      <td>1</td>\n",
       "      <td>1</td>\n",
       "      <td>1</td>\n",
       "    </tr>\n",
       "    <tr>\n",
       "      <th>1175071</th>\n",
       "      <td>306090</td>\n",
       "      <td>10</td>\n",
       "      <td>1</td>\n",
       "      <td>27</td>\n",
       "      <td>113</td>\n",
       "      <td>2017-11-09 15:59:02</td>\n",
       "      <td>2017-11-09 15:59:35</td>\n",
       "      <td>1</td>\n",
       "      <td>1</td>\n",
       "      <td>1</td>\n",
       "    </tr>\n",
       "    <tr>\n",
       "      <th>1175157</th>\n",
       "      <td>350170</td>\n",
       "      <td>10</td>\n",
       "      <td>1</td>\n",
       "      <td>47</td>\n",
       "      <td>113</td>\n",
       "      <td>2017-11-09 15:59:02</td>\n",
       "      <td>2017-11-09 15:59:21</td>\n",
       "      <td>1</td>\n",
       "      <td>1</td>\n",
       "      <td>0</td>\n",
       "    </tr>\n",
       "    <tr>\n",
       "      <th>1175758</th>\n",
       "      <td>291188</td>\n",
       "      <td>10</td>\n",
       "      <td>1</td>\n",
       "      <td>61</td>\n",
       "      <td>113</td>\n",
       "      <td>2017-11-09 15:59:03</td>\n",
       "      <td>2017-11-09 15:59:35</td>\n",
       "      <td>1</td>\n",
       "      <td>1</td>\n",
       "      <td>1</td>\n",
       "    </tr>\n",
       "    <tr>\n",
       "      <th>1176461</th>\n",
       "      <td>318331</td>\n",
       "      <td>5</td>\n",
       "      <td>1</td>\n",
       "      <td>27</td>\n",
       "      <td>113</td>\n",
       "      <td>2017-11-09 15:59:04</td>\n",
       "      <td>2017-11-09 15:59:33</td>\n",
       "      <td>1</td>\n",
       "      <td>1</td>\n",
       "      <td>0</td>\n",
       "    </tr>\n",
       "    <tr>\n",
       "      <th>1178109</th>\n",
       "      <td>324883</td>\n",
       "      <td>45</td>\n",
       "      <td>1</td>\n",
       "      <td>58</td>\n",
       "      <td>419</td>\n",
       "      <td>2017-11-09 15:59:07</td>\n",
       "      <td>2017-11-09 15:59:16</td>\n",
       "      <td>1</td>\n",
       "      <td>1</td>\n",
       "      <td>0</td>\n",
       "    </tr>\n",
       "    <tr>\n",
       "      <th>1178641</th>\n",
       "      <td>310830</td>\n",
       "      <td>19</td>\n",
       "      <td>0</td>\n",
       "      <td>24</td>\n",
       "      <td>213</td>\n",
       "      <td>2017-11-09 15:59:07</td>\n",
       "      <td>2017-11-09 15:59:57</td>\n",
       "      <td>1</td>\n",
       "      <td>1</td>\n",
       "      <td>1</td>\n",
       "    </tr>\n",
       "    <tr>\n",
       "      <th>1178841</th>\n",
       "      <td>338843</td>\n",
       "      <td>5</td>\n",
       "      <td>1</td>\n",
       "      <td>37</td>\n",
       "      <td>113</td>\n",
       "      <td>2017-11-09 15:59:08</td>\n",
       "      <td>2017-11-09 15:59:36</td>\n",
       "      <td>1</td>\n",
       "      <td>1</td>\n",
       "      <td>0</td>\n",
       "    </tr>\n",
       "    <tr>\n",
       "      <th>1179140</th>\n",
       "      <td>1883</td>\n",
       "      <td>10</td>\n",
       "      <td>1</td>\n",
       "      <td>7</td>\n",
       "      <td>113</td>\n",
       "      <td>2017-11-09 15:59:08</td>\n",
       "      <td>2017-11-09 15:59:40</td>\n",
       "      <td>1</td>\n",
       "      <td>1</td>\n",
       "      <td>1</td>\n",
       "    </tr>\n",
       "    <tr>\n",
       "      <th>1180547</th>\n",
       "      <td>350859</td>\n",
       "      <td>29</td>\n",
       "      <td>1</td>\n",
       "      <td>8</td>\n",
       "      <td>213</td>\n",
       "      <td>2017-11-09 15:59:10</td>\n",
       "      <td>2017-11-09 15:59:48</td>\n",
       "      <td>1</td>\n",
       "      <td>1</td>\n",
       "      <td>1</td>\n",
       "    </tr>\n",
       "    <tr>\n",
       "      <th>1182700</th>\n",
       "      <td>346662</td>\n",
       "      <td>45</td>\n",
       "      <td>1</td>\n",
       "      <td>11</td>\n",
       "      <td>419</td>\n",
       "      <td>2017-11-09 15:59:13</td>\n",
       "      <td>2017-11-09 15:59:25</td>\n",
       "      <td>1</td>\n",
       "      <td>1</td>\n",
       "      <td>0</td>\n",
       "    </tr>\n",
       "    <tr>\n",
       "      <th>1184273</th>\n",
       "      <td>302682</td>\n",
       "      <td>10</td>\n",
       "      <td>1</td>\n",
       "      <td>4</td>\n",
       "      <td>113</td>\n",
       "      <td>2017-11-09 15:59:15</td>\n",
       "      <td>2017-11-09 15:59:48</td>\n",
       "      <td>1</td>\n",
       "      <td>1</td>\n",
       "      <td>1</td>\n",
       "    </tr>\n",
       "    <tr>\n",
       "      <th>1184403</th>\n",
       "      <td>333879</td>\n",
       "      <td>10</td>\n",
       "      <td>1</td>\n",
       "      <td>27</td>\n",
       "      <td>113</td>\n",
       "      <td>2017-11-09 15:59:15</td>\n",
       "      <td>2017-11-09 15:59:51</td>\n",
       "      <td>1</td>\n",
       "      <td>1</td>\n",
       "      <td>1</td>\n",
       "    </tr>\n",
       "    <tr>\n",
       "      <th>1188824</th>\n",
       "      <td>313982</td>\n",
       "      <td>10</td>\n",
       "      <td>1</td>\n",
       "      <td>27</td>\n",
       "      <td>113</td>\n",
       "      <td>2017-11-09 15:59:21</td>\n",
       "      <td>2017-11-09 15:59:53</td>\n",
       "      <td>1</td>\n",
       "      <td>1</td>\n",
       "      <td>1</td>\n",
       "    </tr>\n",
       "    <tr>\n",
       "      <th>1188859</th>\n",
       "      <td>331467</td>\n",
       "      <td>5</td>\n",
       "      <td>1</td>\n",
       "      <td>47</td>\n",
       "      <td>113</td>\n",
       "      <td>2017-11-09 15:59:21</td>\n",
       "      <td>2017-11-09 15:59:26</td>\n",
       "      <td>1</td>\n",
       "      <td>1</td>\n",
       "      <td>0</td>\n",
       "    </tr>\n",
       "    <tr>\n",
       "      <th>1193016</th>\n",
       "      <td>29789</td>\n",
       "      <td>45</td>\n",
       "      <td>1</td>\n",
       "      <td>32</td>\n",
       "      <td>419</td>\n",
       "      <td>2017-11-09 15:59:26</td>\n",
       "      <td>2017-11-09 15:59:42</td>\n",
       "      <td>1</td>\n",
       "      <td>1</td>\n",
       "      <td>0</td>\n",
       "    </tr>\n",
       "    <tr>\n",
       "      <th>1193244</th>\n",
       "      <td>308776</td>\n",
       "      <td>10</td>\n",
       "      <td>1</td>\n",
       "      <td>11</td>\n",
       "      <td>113</td>\n",
       "      <td>2017-11-09 15:59:26</td>\n",
       "      <td>2017-11-09 15:59:58</td>\n",
       "      <td>1</td>\n",
       "      <td>1</td>\n",
       "      <td>1</td>\n",
       "    </tr>\n",
       "    <tr>\n",
       "      <th>1198473</th>\n",
       "      <td>176331</td>\n",
       "      <td>9</td>\n",
       "      <td>1</td>\n",
       "      <td>19</td>\n",
       "      <td>127</td>\n",
       "      <td>2017-11-09 15:59:33</td>\n",
       "      <td>2017-11-09 15:59:59</td>\n",
       "      <td>1</td>\n",
       "      <td>0</td>\n",
       "      <td>0</td>\n",
       "    </tr>\n",
       "  </tbody>\n",
       "</table>\n",
       "</div>"
      ],
      "text/plain": [
       "             ip  app  device  os  channel           click_time  \\\n",
       "1170915  339381  105       1   3      451  2017-11-09 15:58:56   \n",
       "1171170  341549   19       6  29      213  2017-11-09 15:58:57   \n",
       "1171428  324258   19       0   0      213  2017-11-09 15:58:57   \n",
       "1175071  306090   10       1  27      113  2017-11-09 15:59:02   \n",
       "1175157  350170   10       1  47      113  2017-11-09 15:59:02   \n",
       "1175758  291188   10       1  61      113  2017-11-09 15:59:03   \n",
       "1176461  318331    5       1  27      113  2017-11-09 15:59:04   \n",
       "1178109  324883   45       1  58      419  2017-11-09 15:59:07   \n",
       "1178641  310830   19       0  24      213  2017-11-09 15:59:07   \n",
       "1178841  338843    5       1  37      113  2017-11-09 15:59:08   \n",
       "1179140    1883   10       1   7      113  2017-11-09 15:59:08   \n",
       "1180547  350859   29       1   8      213  2017-11-09 15:59:10   \n",
       "1182700  346662   45       1  11      419  2017-11-09 15:59:13   \n",
       "1184273  302682   10       1   4      113  2017-11-09 15:59:15   \n",
       "1184403  333879   10       1  27      113  2017-11-09 15:59:15   \n",
       "1188824  313982   10       1  27      113  2017-11-09 15:59:21   \n",
       "1188859  331467    5       1  47      113  2017-11-09 15:59:21   \n",
       "1193016   29789   45       1  32      419  2017-11-09 15:59:26   \n",
       "1193244  308776   10       1  11      113  2017-11-09 15:59:26   \n",
       "1198473  176331    9       1  19      127  2017-11-09 15:59:33   \n",
       "\n",
       "             attributed_time  is_attributed  cuttoff_time  conv_diff  \n",
       "1170915  2017-11-09 15:59:53              1             1          1  \n",
       "1171170  2017-11-09 15:59:35              1             1          1  \n",
       "1171428  2017-11-09 15:59:46              1             1          1  \n",
       "1175071  2017-11-09 15:59:35              1             1          1  \n",
       "1175157  2017-11-09 15:59:21              1             1          0  \n",
       "1175758  2017-11-09 15:59:35              1             1          1  \n",
       "1176461  2017-11-09 15:59:33              1             1          0  \n",
       "1178109  2017-11-09 15:59:16              1             1          0  \n",
       "1178641  2017-11-09 15:59:57              1             1          1  \n",
       "1178841  2017-11-09 15:59:36              1             1          0  \n",
       "1179140  2017-11-09 15:59:40              1             1          1  \n",
       "1180547  2017-11-09 15:59:48              1             1          1  \n",
       "1182700  2017-11-09 15:59:25              1             1          0  \n",
       "1184273  2017-11-09 15:59:48              1             1          1  \n",
       "1184403  2017-11-09 15:59:51              1             1          1  \n",
       "1188824  2017-11-09 15:59:53              1             1          1  \n",
       "1188859  2017-11-09 15:59:26              1             1          0  \n",
       "1193016  2017-11-09 15:59:42              1             1          0  \n",
       "1193244  2017-11-09 15:59:58              1             1          1  \n",
       "1198473  2017-11-09 15:59:59              1             0          0  "
      ]
     },
     "execution_count": 54,
     "metadata": {},
     "output_type": "execute_result"
    }
   ],
   "source": [
    "clicked_data.tail(20)"
   ]
  },
  {
   "cell_type": "code",
   "execution_count": 41,
   "metadata": {
    "collapsed": true
   },
   "outputs": [],
   "source": [
    "non_clicked = data[data.is_attributed==0]"
   ]
  },
  {
   "cell_type": "code",
   "execution_count": 16,
   "metadata": {},
   "outputs": [
    {
     "data": {
      "text/plain": [
       "3688946"
      ]
     },
     "execution_count": 16,
     "metadata": {},
     "output_type": "execute_result"
    }
   ],
   "source": [
    "len(non_clicked)"
   ]
  },
  {
   "cell_type": "code",
   "execution_count": 42,
   "metadata": {},
   "outputs": [
    {
     "data": {
      "text/html": [
       "<div>\n",
       "<style>\n",
       "    .dataframe thead tr:only-child th {\n",
       "        text-align: right;\n",
       "    }\n",
       "\n",
       "    .dataframe thead th {\n",
       "        text-align: left;\n",
       "    }\n",
       "\n",
       "    .dataframe tbody tr th {\n",
       "        vertical-align: top;\n",
       "    }\n",
       "</style>\n",
       "<table border=\"1\" class=\"dataframe\">\n",
       "  <thead>\n",
       "    <tr style=\"text-align: right;\">\n",
       "      <th></th>\n",
       "      <th>ip</th>\n",
       "      <th>app</th>\n",
       "      <th>device</th>\n",
       "      <th>os</th>\n",
       "      <th>channel</th>\n",
       "      <th>click_time</th>\n",
       "      <th>attributed_time</th>\n",
       "      <th>is_attributed</th>\n",
       "    </tr>\n",
       "  </thead>\n",
       "  <tbody>\n",
       "    <tr>\n",
       "      <th>1220047</th>\n",
       "      <td>121312</td>\n",
       "      <td>12</td>\n",
       "      <td>1</td>\n",
       "      <td>10</td>\n",
       "      <td>340</td>\n",
       "      <td>2017-11-09 16:00:00</td>\n",
       "      <td>NaN</td>\n",
       "      <td>0</td>\n",
       "    </tr>\n",
       "    <tr>\n",
       "      <th>1220048</th>\n",
       "      <td>46894</td>\n",
       "      <td>3</td>\n",
       "      <td>1</td>\n",
       "      <td>19</td>\n",
       "      <td>211</td>\n",
       "      <td>2017-11-09 16:00:00</td>\n",
       "      <td>NaN</td>\n",
       "      <td>0</td>\n",
       "    </tr>\n",
       "    <tr>\n",
       "      <th>1220049</th>\n",
       "      <td>320126</td>\n",
       "      <td>1</td>\n",
       "      <td>1</td>\n",
       "      <td>13</td>\n",
       "      <td>274</td>\n",
       "      <td>2017-11-09 16:00:00</td>\n",
       "      <td>NaN</td>\n",
       "      <td>0</td>\n",
       "    </tr>\n",
       "    <tr>\n",
       "      <th>1220050</th>\n",
       "      <td>189286</td>\n",
       "      <td>12</td>\n",
       "      <td>1</td>\n",
       "      <td>37</td>\n",
       "      <td>259</td>\n",
       "      <td>2017-11-09 16:00:00</td>\n",
       "      <td>NaN</td>\n",
       "      <td>0</td>\n",
       "    </tr>\n",
       "    <tr>\n",
       "      <th>1220051</th>\n",
       "      <td>106485</td>\n",
       "      <td>11</td>\n",
       "      <td>1</td>\n",
       "      <td>19</td>\n",
       "      <td>137</td>\n",
       "      <td>2017-11-09 16:00:00</td>\n",
       "      <td>NaN</td>\n",
       "      <td>0</td>\n",
       "    </tr>\n",
       "  </tbody>\n",
       "</table>\n",
       "</div>"
      ],
      "text/plain": [
       "             ip  app  device  os  channel           click_time  \\\n",
       "1220047  121312   12       1  10      340  2017-11-09 16:00:00   \n",
       "1220048   46894    3       1  19      211  2017-11-09 16:00:00   \n",
       "1220049  320126    1       1  13      274  2017-11-09 16:00:00   \n",
       "1220050  189286   12       1  37      259  2017-11-09 16:00:00   \n",
       "1220051  106485   11       1  19      137  2017-11-09 16:00:00   \n",
       "\n",
       "        attributed_time  is_attributed  \n",
       "1220047             NaN              0  \n",
       "1220048             NaN              0  \n",
       "1220049             NaN              0  \n",
       "1220050             NaN              0  \n",
       "1220051             NaN              0  "
      ]
     },
     "execution_count": 42,
     "metadata": {},
     "output_type": "execute_result"
    }
   ],
   "source": [
    "non_clicked.tail()"
   ]
  },
  {
   "cell_type": "code",
   "execution_count": 38,
   "metadata": {
    "collapsed": true
   },
   "outputs": [],
   "source": [
    "data = data.repartition(npartitions=1)"
   ]
  },
  {
   "cell_type": "code",
   "execution_count": 39,
   "metadata": {},
   "outputs": [
    {
     "data": {
      "text/html": [
       "<div>\n",
       "<style>\n",
       "    .dataframe thead tr:only-child th {\n",
       "        text-align: right;\n",
       "    }\n",
       "\n",
       "    .dataframe thead th {\n",
       "        text-align: left;\n",
       "    }\n",
       "\n",
       "    .dataframe tbody tr th {\n",
       "        vertical-align: top;\n",
       "    }\n",
       "</style>\n",
       "<table border=\"1\" class=\"dataframe\">\n",
       "  <thead>\n",
       "    <tr style=\"text-align: right;\">\n",
       "      <th></th>\n",
       "      <th>ip</th>\n",
       "      <th>app</th>\n",
       "      <th>device</th>\n",
       "      <th>os</th>\n",
       "      <th>channel</th>\n",
       "      <th>click_time</th>\n",
       "      <th>attributed_time</th>\n",
       "      <th>is_attributed</th>\n",
       "    </tr>\n",
       "  </thead>\n",
       "  <tbody>\n",
       "    <tr>\n",
       "      <th>1188824</th>\n",
       "      <td>313982</td>\n",
       "      <td>10</td>\n",
       "      <td>1</td>\n",
       "      <td>27</td>\n",
       "      <td>113</td>\n",
       "      <td>2017-11-09 15:59:21</td>\n",
       "      <td>2017-11-09 15:59:53</td>\n",
       "      <td>1</td>\n",
       "    </tr>\n",
       "    <tr>\n",
       "      <th>1188859</th>\n",
       "      <td>331467</td>\n",
       "      <td>5</td>\n",
       "      <td>1</td>\n",
       "      <td>47</td>\n",
       "      <td>113</td>\n",
       "      <td>2017-11-09 15:59:21</td>\n",
       "      <td>2017-11-09 15:59:26</td>\n",
       "      <td>1</td>\n",
       "    </tr>\n",
       "    <tr>\n",
       "      <th>1193016</th>\n",
       "      <td>29789</td>\n",
       "      <td>45</td>\n",
       "      <td>1</td>\n",
       "      <td>32</td>\n",
       "      <td>419</td>\n",
       "      <td>2017-11-09 15:59:26</td>\n",
       "      <td>2017-11-09 15:59:42</td>\n",
       "      <td>1</td>\n",
       "    </tr>\n",
       "    <tr>\n",
       "      <th>1193244</th>\n",
       "      <td>308776</td>\n",
       "      <td>10</td>\n",
       "      <td>1</td>\n",
       "      <td>11</td>\n",
       "      <td>113</td>\n",
       "      <td>2017-11-09 15:59:26</td>\n",
       "      <td>2017-11-09 15:59:58</td>\n",
       "      <td>1</td>\n",
       "    </tr>\n",
       "    <tr>\n",
       "      <th>1198473</th>\n",
       "      <td>176331</td>\n",
       "      <td>9</td>\n",
       "      <td>1</td>\n",
       "      <td>19</td>\n",
       "      <td>127</td>\n",
       "      <td>2017-11-09 15:59:33</td>\n",
       "      <td>2017-11-09 15:59:59</td>\n",
       "      <td>1</td>\n",
       "    </tr>\n",
       "  </tbody>\n",
       "</table>\n",
       "</div>"
      ],
      "text/plain": [
       "             ip  app  device  os  channel           click_time  \\\n",
       "1188824  313982   10       1  27      113  2017-11-09 15:59:21   \n",
       "1188859  331467    5       1  47      113  2017-11-09 15:59:21   \n",
       "1193016   29789   45       1  32      419  2017-11-09 15:59:26   \n",
       "1193244  308776   10       1  11      113  2017-11-09 15:59:26   \n",
       "1198473  176331    9       1  19      127  2017-11-09 15:59:33   \n",
       "\n",
       "             attributed_time  is_attributed  \n",
       "1188824  2017-11-09 15:59:53              1  \n",
       "1188859  2017-11-09 15:59:26              1  \n",
       "1193016  2017-11-09 15:59:42              1  \n",
       "1193244  2017-11-09 15:59:58              1  \n",
       "1198473  2017-11-09 15:59:59              1  "
      ]
     },
     "execution_count": 39,
     "metadata": {},
     "output_type": "execute_result"
    }
   ],
   "source": [
    "data[data.is_attributed==1].tail()"
   ]
  },
  {
   "cell_type": "code",
   "execution_count": 37,
   "metadata": {
    "collapsed": true
   },
   "outputs": [],
   "source": [
    "all_sample_data = clicked_data.append(non_clicked)"
   ]
  },
  {
   "cell_type": "code",
   "execution_count": null,
   "metadata": {
    "collapsed": true
   },
   "outputs": [],
   "source": [
    "for c in all_sample_data.columns:\n",
    "    print(c, np.sum(all_sample_data[c].isnull().compute()))"
   ]
  },
  {
   "cell_type": "code",
   "execution_count": 39,
   "metadata": {
    "collapsed": true
   },
   "outputs": [],
   "source": [
    "del clicked_data\n",
    "del non_clicked"
   ]
  },
  {
   "cell_type": "code",
   "execution_count": 40,
   "metadata": {
    "collapsed": true
   },
   "outputs": [],
   "source": [
    "def get_date(x):\n",
    "    td = str(x).strip().split(' ')\n",
    "    if len(td)>0:\n",
    "        return td[0]\n",
    "def get_time(x):\n",
    "    td = str(x).strip().split(' ')\n",
    "    if len(td)>1:\n",
    "        return td[1]"
   ]
  },
  {
   "cell_type": "code",
   "execution_count": 41,
   "metadata": {
    "collapsed": true
   },
   "outputs": [],
   "source": [
    "all_sample_data['date']=all_sample_data.click_time.apply(get_date, meta=('x', str))\n",
    "all_sample_data['time']=all_sample_data.click_time.apply(get_time, meta=('x', str))\n",
    "all_sample_data['a_date']=all_sample_data.attributed_time.apply(get_date, meta=('x', str))"
   ]
  },
  {
   "cell_type": "code",
   "execution_count": 44,
   "metadata": {},
   "outputs": [
    {
     "data": {
      "text/html": [
       "<div>\n",
       "<style>\n",
       "    .dataframe thead tr:only-child th {\n",
       "        text-align: right;\n",
       "    }\n",
       "\n",
       "    .dataframe thead th {\n",
       "        text-align: left;\n",
       "    }\n",
       "\n",
       "    .dataframe tbody tr th {\n",
       "        vertical-align: top;\n",
       "    }\n",
       "</style>\n",
       "<table border=\"1\" class=\"dataframe\">\n",
       "  <thead>\n",
       "    <tr style=\"text-align: right;\">\n",
       "      <th></th>\n",
       "      <th>ip</th>\n",
       "      <th>app</th>\n",
       "      <th>device</th>\n",
       "      <th>os</th>\n",
       "      <th>channel</th>\n",
       "      <th>click_time</th>\n",
       "      <th>attributed_time</th>\n",
       "      <th>is_attributed</th>\n",
       "      <th>date</th>\n",
       "      <th>time</th>\n",
       "      <th>a_date</th>\n",
       "    </tr>\n",
       "  </thead>\n",
       "  <tbody>\n",
       "    <tr>\n",
       "      <th>525446</th>\n",
       "      <td>112302</td>\n",
       "      <td>3</td>\n",
       "      <td>1</td>\n",
       "      <td>37</td>\n",
       "      <td>280</td>\n",
       "      <td>2017-11-09 15:44:31</td>\n",
       "      <td>NaN</td>\n",
       "      <td>0</td>\n",
       "      <td>2017-11-09</td>\n",
       "      <td>15:44:31</td>\n",
       "      <td>nan</td>\n",
       "    </tr>\n",
       "    <tr>\n",
       "      <th>885576</th>\n",
       "      <td>100203</td>\n",
       "      <td>18</td>\n",
       "      <td>1</td>\n",
       "      <td>10</td>\n",
       "      <td>107</td>\n",
       "      <td>2017-11-09 15:52:25</td>\n",
       "      <td>NaN</td>\n",
       "      <td>0</td>\n",
       "      <td>2017-11-09</td>\n",
       "      <td>15:52:25</td>\n",
       "      <td>nan</td>\n",
       "    </tr>\n",
       "    <tr>\n",
       "      <th>935535</th>\n",
       "      <td>261456</td>\n",
       "      <td>17</td>\n",
       "      <td>1</td>\n",
       "      <td>13</td>\n",
       "      <td>128</td>\n",
       "      <td>2017-11-09 15:53:31</td>\n",
       "      <td>NaN</td>\n",
       "      <td>0</td>\n",
       "      <td>2017-11-09</td>\n",
       "      <td>15:53:31</td>\n",
       "      <td>nan</td>\n",
       "    </tr>\n",
       "    <tr>\n",
       "      <th>1103407</th>\n",
       "      <td>2643</td>\n",
       "      <td>12</td>\n",
       "      <td>1</td>\n",
       "      <td>7</td>\n",
       "      <td>212</td>\n",
       "      <td>2017-11-09 15:57:23</td>\n",
       "      <td>NaN</td>\n",
       "      <td>0</td>\n",
       "      <td>2017-11-09</td>\n",
       "      <td>15:57:23</td>\n",
       "      <td>nan</td>\n",
       "    </tr>\n",
       "    <tr>\n",
       "      <th>998109</th>\n",
       "      <td>108077</td>\n",
       "      <td>9</td>\n",
       "      <td>1</td>\n",
       "      <td>3</td>\n",
       "      <td>107</td>\n",
       "      <td>2017-11-09 15:54:54</td>\n",
       "      <td>NaN</td>\n",
       "      <td>0</td>\n",
       "      <td>2017-11-09</td>\n",
       "      <td>15:54:54</td>\n",
       "      <td>nan</td>\n",
       "    </tr>\n",
       "  </tbody>\n",
       "</table>\n",
       "</div>"
      ],
      "text/plain": [
       "             ip  app  device  os  channel           click_time  \\\n",
       "525446   112302    3       1  37      280  2017-11-09 15:44:31   \n",
       "885576   100203   18       1  10      107  2017-11-09 15:52:25   \n",
       "935535   261456   17       1  13      128  2017-11-09 15:53:31   \n",
       "1103407    2643   12       1   7      212  2017-11-09 15:57:23   \n",
       "998109   108077    9       1   3      107  2017-11-09 15:54:54   \n",
       "\n",
       "        attributed_time  is_attributed        date      time a_date  \n",
       "525446              NaN              0  2017-11-09  15:44:31    nan  \n",
       "885576              NaN              0  2017-11-09  15:52:25    nan  \n",
       "935535              NaN              0  2017-11-09  15:53:31    nan  \n",
       "1103407             NaN              0  2017-11-09  15:57:23    nan  \n",
       "998109              NaN              0  2017-11-09  15:54:54    nan  "
      ]
     },
     "execution_count": 44,
     "metadata": {},
     "output_type": "execute_result"
    }
   ],
   "source": [
    "all_sample_data.tail()"
   ]
  },
  {
   "cell_type": "code",
   "execution_count": null,
   "metadata": {
    "collapsed": true
   },
   "outputs": [],
   "source": []
  },
  {
   "cell_type": "code",
   "execution_count": 82,
   "metadata": {
    "collapsed": true
   },
   "outputs": [],
   "source": [
    "import datetime\n",
    "def get_down(x):\n",
    "    dt = datetime.datetime.strptime(x, '%Y-%m-%d').strftime('%A')\n",
    "    return dt\n",
    "    \n",
    "def get_hour(x):\n",
    "    td = str(x).strip().split(':')\n",
    "    if len(td)>0:\n",
    "        return td[0]"
   ]
  },
  {
   "cell_type": "code",
   "execution_count": 47,
   "metadata": {
    "scrolled": true
   },
   "outputs": [
    {
     "data": {
      "text/plain": [
       "0    2017-11-06\n",
       "1    2017-11-07\n",
       "2    2017-11-08\n",
       "3    2017-11-09\n",
       "Name: date, dtype: object"
      ]
     },
     "execution_count": 47,
     "metadata": {},
     "output_type": "execute_result"
    }
   ],
   "source": [
    "all_sample_data.date.unique().compute()"
   ]
  },
  {
   "cell_type": "code",
   "execution_count": 48,
   "metadata": {},
   "outputs": [
    {
     "data": {
      "text/plain": [
       "0    2017-11-07\n",
       "1    2017-11-06\n",
       "2    2017-11-08\n",
       "3    2017-11-09\n",
       "4           nan\n",
       "Name: a_date, dtype: object"
      ]
     },
     "execution_count": 48,
     "metadata": {},
     "output_type": "execute_result"
    }
   ],
   "source": [
    "all_sample_data.a_date.unique().compute()"
   ]
  },
  {
   "cell_type": "code",
   "execution_count": 53,
   "metadata": {},
   "outputs": [
    {
     "data": {
      "text/plain": [
       "0       Monday\n",
       "1      Tuesday\n",
       "2    Wednesday\n",
       "3     Thursday\n",
       "Name: down, dtype: object"
      ]
     },
     "execution_count": 53,
     "metadata": {},
     "output_type": "execute_result"
    }
   ],
   "source": [
    "all_sample_data.down.unique().compute()"
   ]
  },
  {
   "cell_type": "code",
   "execution_count": 83,
   "metadata": {
    "collapsed": true
   },
   "outputs": [],
   "source": [
    "all_sample_data['down']=all_sample_data.date.apply(get_down, meta=('x', str))\n",
    "all_sample_data['hour']=all_sample_data.time.apply(get_hour, meta=('x', str))"
   ]
  },
  {
   "cell_type": "code",
   "execution_count": 55,
   "metadata": {
    "collapsed": true
   },
   "outputs": [],
   "source": [
    "all_sample_data_df = all_sample_data.drop(['click_time', 'date','time'], axis=1).compute()"
   ]
  },
  {
   "cell_type": "code",
   "execution_count": 110,
   "metadata": {},
   "outputs": [
    {
     "data": {
      "text/plain": [
       "str"
      ]
     },
     "execution_count": 110,
     "metadata": {},
     "output_type": "execute_result"
    }
   ],
   "source": [
    "type(all_sample_data_df.hour.iloc[0])"
   ]
  },
  {
   "cell_type": "code",
   "execution_count": 84,
   "metadata": {},
   "outputs": [
    {
     "data": {
      "text/plain": [
       "<matplotlib.axes._subplots.AxesSubplot at 0x7f1c04318d30>"
      ]
     },
     "execution_count": 84,
     "metadata": {},
     "output_type": "execute_result"
    },
    {
     "data": {
      "image/png": "[encoded data removed]",
      "text/plain": [
       "<matplotlib.figure.Figure at 0x7f1c042dfb00>"
      ]
     },
     "metadata": {},
     "output_type": "display_data"
    }
   ],
   "source": [
    "all_sample_data_df[['hour','is_attributed']].groupby('hour').agg(['mean']).reset_index().plot(figsize=(20,10))"
   ]
  },
  {
   "cell_type": "code",
   "execution_count": 80,
   "metadata": {},
   "outputs": [
    {
     "data": {
      "text/plain": [
       "<matplotlib.axes._subplots.AxesSubplot at 0x7f1c04472898>"
      ]
     },
     "execution_count": 80,
     "metadata": {},
     "output_type": "execute_result"
    },
    {
     "data": {
      "image/png": "[encoded data removed]",
      "text/plain": [
       "<matplotlib.figure.Figure at 0x7f1c044bcef0>"
      ]
     },
     "metadata": {},
     "output_type": "display_data"
    }
   ],
   "source": [
    "all_sample_data_df[all_sample_data_df.is_attributed==0][['hour','is_attributed']].groupby('hour').agg(['count','sum']).reset_index().plot(figsize=(20,10))"
   ]
  },
  {
   "cell_type": "code",
   "execution_count": 83,
   "metadata": {},
   "outputs": [
    {
     "data": {
      "text/plain": [
       "<matplotlib.axes._subplots.AxesSubplot at 0x7f1c04318dd8>"
      ]
     },
     "execution_count": 83,
     "metadata": {},
     "output_type": "execute_result"
    },
    {
     "data": {
      "image/png": "[encoded data removed]",
      "text/plain": [
       "<matplotlib.figure.Figure at 0x7f1c043ced30>"
      ]
     },
     "metadata": {},
     "output_type": "display_data"
    }
   ],
   "source": [
    "all_sample_data_df[all_sample_data_df.is_attributed==1][['hour','is_attributed']].groupby('hour').agg(['count','sum']).reset_index().plot(x='hour',figsize=(20,10))"
   ]
  },
  {
   "cell_type": "code",
   "execution_count": 76,
   "metadata": {},
   "outputs": [
    {
     "data": {
      "text/plain": [
       "<matplotlib.axes._subplots.AxesSubplot at 0x7f1c0a9767f0>"
      ]
     },
     "execution_count": 76,
     "metadata": {},
     "output_type": "execute_result"
    },
    {
     "data": {
      "image/png": "[encoded data removed]",
      "text/plain": [
       "<matplotlib.figure.Figure at 0x7f1c0aa148d0>"
      ]
     },
     "metadata": {},
     "output_type": "display_data"
    }
   ],
   "source": [
    "all_sample_data_df[['down','is_attributed']].groupby('down').agg('mean').reset_index().plot(x='down',y='is_attributed', kind='bar')"
   ]
  },
  {
   "cell_type": "code",
   "execution_count": 95,
   "metadata": {},
   "outputs": [
    {
     "data": {
      "text/plain": [
       "<matplotlib.axes._subplots.AxesSubplot at 0x7f1bfdac26a0>"
      ]
     },
     "execution_count": 95,
     "metadata": {},
     "output_type": "execute_result"
    },
    {
     "data": {
      "image/png": "[encoded data removed]",
      "text/plain": [
       "<matplotlib.figure.Figure at 0x7f1bfdbafa20>"
      ]
     },
     "metadata": {},
     "output_type": "display_data"
    }
   ],
   "source": [
    "all_sample_data_df[['channel','is_attributed']].groupby('channel').agg(['mean']).reset_index().plot.scatter(x= 'channel',y='is_attributed',figsize=(20,10))"
   ]
  },
  {
   "cell_type": "code",
   "execution_count": null,
   "metadata": {
    "collapsed": true
   },
   "outputs": [],
   "source": []
  },
  {
   "cell_type": "markdown",
   "metadata": {},
   "source": [
    "### Modelling"
   ]
  },
  {
   "cell_type": "code",
   "execution_count": 208,
   "metadata": {
    "collapsed": true
   },
   "outputs": [],
   "source": [
    "from sklearn.cross_validation import train_test_split\n",
    "from sklearn.metrics import accuracy_score\n",
    "import lightgbm as lgb\n",
    "from sklearn.preprocessing import LabelEncoder\n",
    "from sklearn.metrics import roc_auc_score\n",
    "from sklearn.model_selection import StratifiedKFold"
   ]
  },
  {
   "cell_type": "code",
   "execution_count": 99,
   "metadata": {
    "collapsed": true
   },
   "outputs": [],
   "source": [
    "le=LabelEncoder()\n",
    "le.fit(all_sample_data_df.down)\n",
    "all_sample_data_df['dow']=le.transform(all_sample_data_df.down) "
   ]
  },
  {
   "cell_type": "code",
   "execution_count": 111,
   "metadata": {
    "collapsed": true
   },
   "outputs": [],
   "source": [
    "all_sample_data_df.hour = all_sample_data_df.hour.apply(int)"
   ]
  },
  {
   "cell_type": "code",
   "execution_count": 112,
   "metadata": {
    "collapsed": true
   },
   "outputs": [],
   "source": [
    "cols = ['ip','app','device','os','channel','dow','hour']"
   ]
  },
  {
   "cell_type": "code",
   "execution_count": 205,
   "metadata": {
    "collapsed": true
   },
   "outputs": [],
   "source": [
    "X_train, X_test, y_train, y_test = train_test_split(all_sample_data_df[cols], all_sample_data_df.is_attributed, test_size=0.20, random_state=17, stratify=all_sample_data_df.is_attributed)\n",
    "gbm = lgb.LGBMClassifier(\n",
    "                       objective='binary',\n",
    "                        max_depth=9,\n",
    "                        num_leaves=250,\n",
    "                        min_child_samples= 100, \n",
    "                        min_data_in_leaf=20,\n",
    "                        metric = ['auc'],\n",
    "                        learning_rate=0.05,\n",
    "                        verbose_eval=100, \n",
    "                        max_bin=100,\n",
    "                        colsample_bytree=0.8,\n",
    "                        subsample=0.8,\n",
    "                        n_estimators=1000)\n",
    "\n"
   ]
  },
  {
   "cell_type": "code",
   "execution_count": 206,
   "metadata": {},
   "outputs": [
    {
     "data": {
      "text/plain": [
       "(91369, 365477)"
      ]
     },
     "execution_count": 206,
     "metadata": {},
     "output_type": "execute_result"
    }
   ],
   "source": [
    "np.sum(y_test), np.sum(y_train)"
   ]
  },
  {
   "cell_type": "code",
   "execution_count": 207,
   "metadata": {
    "scrolled": true
   },
   "outputs": [
    {
     "name": "stdout",
     "output_type": "stream",
     "text": [
      "train roc:  0.977296252502\n",
      "validation roc:  0.971987146845\n"
     ]
    }
   ],
   "source": [
    "gbm.fit(X_train, y_train,eval_set=(X_test,y_test),eval_metric=['auc'],early_stopping_rounds=30, verbose=False)\n",
    "print('train roc: ',roc_auc_score(y_train, gbm.predict_proba(X_train)[:,1]))\n",
    "print('validation roc: ',roc_auc_score(y_test, gbm.predict_proba(X_test)[:,1]))"
   ]
  },
  {
   "cell_type": "code",
   "execution_count": 124,
   "metadata": {},
   "outputs": [
    {
     "data": {
      "text/plain": [
       "array([ 0.0649393 ,  0.01251817,  0.01847804, ...,  0.03510223,\n",
       "        0.01530201,  0.14386546])"
      ]
     },
     "execution_count": 124,
     "metadata": {},
     "output_type": "execute_result"
    }
   ],
   "source": [
    "gbm.predict_proba(X_test)[:,1]"
   ]
  },
  {
   "cell_type": "code",
   "execution_count": 200,
   "metadata": {
    "collapsed": true
   },
   "outputs": [],
   "source": [
    "def get_fm(lgb_model):\n",
    "    feature_imp = pd.DataFrame({'feature': cols,'imp':list(lgb_model.feature_importances_)})\n",
    "    feature_imp.sort_values('imp', ascending=False, inplace=True)\n",
    "    return feature_imp"
   ]
  },
  {
   "cell_type": "code",
   "execution_count": 201,
   "metadata": {},
   "outputs": [
    {
     "data": {
      "text/html": [
       "<div>\n",
       "<style>\n",
       "    .dataframe thead tr:only-child th {\n",
       "        text-align: right;\n",
       "    }\n",
       "\n",
       "    .dataframe thead th {\n",
       "        text-align: left;\n",
       "    }\n",
       "\n",
       "    .dataframe tbody tr th {\n",
       "        vertical-align: top;\n",
       "    }\n",
       "</style>\n",
       "<table border=\"1\" class=\"dataframe\">\n",
       "  <thead>\n",
       "    <tr style=\"text-align: right;\">\n",
       "      <th></th>\n",
       "      <th>feature</th>\n",
       "      <th>imp</th>\n",
       "    </tr>\n",
       "  </thead>\n",
       "  <tbody>\n",
       "    <tr>\n",
       "      <th>0</th>\n",
       "      <td>ip</td>\n",
       "      <td>24904</td>\n",
       "    </tr>\n",
       "    <tr>\n",
       "      <th>3</th>\n",
       "      <td>os</td>\n",
       "      <td>22997</td>\n",
       "    </tr>\n",
       "    <tr>\n",
       "      <th>4</th>\n",
       "      <td>channel</td>\n",
       "      <td>22010</td>\n",
       "    </tr>\n",
       "    <tr>\n",
       "      <th>6</th>\n",
       "      <td>hour</td>\n",
       "      <td>20386</td>\n",
       "    </tr>\n",
       "    <tr>\n",
       "      <th>1</th>\n",
       "      <td>app</td>\n",
       "      <td>19262</td>\n",
       "    </tr>\n",
       "    <tr>\n",
       "      <th>5</th>\n",
       "      <td>dow</td>\n",
       "      <td>7756</td>\n",
       "    </tr>\n",
       "    <tr>\n",
       "      <th>2</th>\n",
       "      <td>device</td>\n",
       "      <td>7199</td>\n",
       "    </tr>\n",
       "  </tbody>\n",
       "</table>\n",
       "</div>"
      ],
      "text/plain": [
       "   feature    imp\n",
       "0       ip  24904\n",
       "3       os  22997\n",
       "4  channel  22010\n",
       "6     hour  20386\n",
       "1      app  19262\n",
       "5      dow   7756\n",
       "2   device   7199"
      ]
     },
     "execution_count": 201,
     "metadata": {},
     "output_type": "execute_result"
    }
   ],
   "source": [
    "get_fm(gbm)"
   ]
  },
  {
   "cell_type": "code",
   "execution_count": 81,
   "metadata": {},
   "outputs": [
    {
     "data": {
      "text/html": [
       "<div>\n",
       "<style>\n",
       "    .dataframe thead tr:only-child th {\n",
       "        text-align: right;\n",
       "    }\n",
       "\n",
       "    .dataframe thead th {\n",
       "        text-align: left;\n",
       "    }\n",
       "\n",
       "    .dataframe tbody tr th {\n",
       "        vertical-align: top;\n",
       "    }\n",
       "</style>\n",
       "<table border=\"1\" class=\"dataframe\">\n",
       "  <thead>\n",
       "    <tr style=\"text-align: right;\">\n",
       "      <th></th>\n",
       "      <th>ip</th>\n",
       "      <th>app</th>\n",
       "      <th>device</th>\n",
       "      <th>os</th>\n",
       "      <th>channel</th>\n",
       "      <th>click_time</th>\n",
       "      <th>attributed_time</th>\n",
       "      <th>is_attributed</th>\n",
       "      <th>date</th>\n",
       "      <th>time</th>\n",
       "      <th>a_date</th>\n",
       "      <th>down</th>\n",
       "      <th>hour</th>\n",
       "    </tr>\n",
       "  </thead>\n",
       "  <tbody>\n",
       "    <tr>\n",
       "      <th>103</th>\n",
       "      <td>204158</td>\n",
       "      <td>35</td>\n",
       "      <td>1</td>\n",
       "      <td>13</td>\n",
       "      <td>21</td>\n",
       "      <td>2017-11-06 15:41:07</td>\n",
       "      <td>2017-11-07 08:17:19</td>\n",
       "      <td>1</td>\n",
       "      <td>2017-11-06</td>\n",
       "      <td>15:41:07</td>\n",
       "      <td>2017-11-07</td>\n",
       "      <td>None</td>\n",
       "      <td>15</td>\n",
       "    </tr>\n",
       "    <tr>\n",
       "      <th>1504</th>\n",
       "      <td>29692</td>\n",
       "      <td>9</td>\n",
       "      <td>1</td>\n",
       "      <td>22</td>\n",
       "      <td>215</td>\n",
       "      <td>2017-11-06 16:00:02</td>\n",
       "      <td>2017-11-07 10:05:22</td>\n",
       "      <td>1</td>\n",
       "      <td>2017-11-06</td>\n",
       "      <td>16:00:02</td>\n",
       "      <td>2017-11-07</td>\n",
       "      <td>None</td>\n",
       "      <td>16</td>\n",
       "    </tr>\n",
       "    <tr>\n",
       "      <th>1798</th>\n",
       "      <td>64516</td>\n",
       "      <td>35</td>\n",
       "      <td>1</td>\n",
       "      <td>13</td>\n",
       "      <td>21</td>\n",
       "      <td>2017-11-06 16:00:02</td>\n",
       "      <td>2017-11-06 23:40:50</td>\n",
       "      <td>1</td>\n",
       "      <td>2017-11-06</td>\n",
       "      <td>16:00:02</td>\n",
       "      <td>2017-11-06</td>\n",
       "      <td>None</td>\n",
       "      <td>16</td>\n",
       "    </tr>\n",
       "    <tr>\n",
       "      <th>2102</th>\n",
       "      <td>172429</td>\n",
       "      <td>35</td>\n",
       "      <td>1</td>\n",
       "      <td>46</td>\n",
       "      <td>274</td>\n",
       "      <td>2017-11-06 16:00:03</td>\n",
       "      <td>2017-11-07 00:55:29</td>\n",
       "      <td>1</td>\n",
       "      <td>2017-11-06</td>\n",
       "      <td>16:00:03</td>\n",
       "      <td>2017-11-07</td>\n",
       "      <td>None</td>\n",
       "      <td>16</td>\n",
       "    </tr>\n",
       "    <tr>\n",
       "      <th>3056</th>\n",
       "      <td>199085</td>\n",
       "      <td>35</td>\n",
       "      <td>1</td>\n",
       "      <td>13</td>\n",
       "      <td>274</td>\n",
       "      <td>2017-11-06 16:00:04</td>\n",
       "      <td>2017-11-06 23:04:54</td>\n",
       "      <td>1</td>\n",
       "      <td>2017-11-06</td>\n",
       "      <td>16:00:04</td>\n",
       "      <td>2017-11-06</td>\n",
       "      <td>None</td>\n",
       "      <td>16</td>\n",
       "    </tr>\n",
       "  </tbody>\n",
       "</table>\n",
       "</div>"
      ],
      "text/plain": [
       "          ip  app  device  os  channel           click_time  \\\n",
       "103   204158   35       1  13       21  2017-11-06 15:41:07   \n",
       "1504   29692    9       1  22      215  2017-11-06 16:00:02   \n",
       "1798   64516   35       1  13       21  2017-11-06 16:00:02   \n",
       "2102  172429   35       1  46      274  2017-11-06 16:00:03   \n",
       "3056  199085   35       1  13      274  2017-11-06 16:00:04   \n",
       "\n",
       "          attributed_time  is_attributed        date      time      a_date  \\\n",
       "103   2017-11-07 08:17:19              1  2017-11-06  15:41:07  2017-11-07   \n",
       "1504  2017-11-07 10:05:22              1  2017-11-06  16:00:02  2017-11-07   \n",
       "1798  2017-11-06 23:40:50              1  2017-11-06  16:00:02  2017-11-06   \n",
       "2102  2017-11-07 00:55:29              1  2017-11-06  16:00:03  2017-11-07   \n",
       "3056  2017-11-06 23:04:54              1  2017-11-06  16:00:04  2017-11-06   \n",
       "\n",
       "      down hour  \n",
       "103   None   15  \n",
       "1504  None   16  \n",
       "1798  None   16  \n",
       "2102  None   16  \n",
       "3056  None   16  "
      ]
     },
     "execution_count": 81,
     "metadata": {},
     "output_type": "execute_result"
    }
   ],
   "source": []
  },
  {
   "cell_type": "code",
   "execution_count": 84,
   "metadata": {},
   "outputs": [
    {
     "data": {
      "text/html": [
       "<div>\n",
       "<style>\n",
       "    .dataframe thead tr:only-child th {\n",
       "        text-align: right;\n",
       "    }\n",
       "\n",
       "    .dataframe thead th {\n",
       "        text-align: left;\n",
       "    }\n",
       "\n",
       "    .dataframe tbody tr th {\n",
       "        vertical-align: top;\n",
       "    }\n",
       "</style>\n",
       "<table border=\"1\" class=\"dataframe\">\n",
       "  <thead>\n",
       "    <tr style=\"text-align: right;\">\n",
       "      <th></th>\n",
       "      <th>ip</th>\n",
       "      <th>app</th>\n",
       "      <th>device</th>\n",
       "      <th>os</th>\n",
       "      <th>channel</th>\n",
       "      <th>click_time</th>\n",
       "      <th>attributed_time</th>\n",
       "      <th>is_attributed</th>\n",
       "      <th>date</th>\n",
       "      <th>time</th>\n",
       "      <th>a_date</th>\n",
       "      <th>down</th>\n",
       "      <th>hour</th>\n",
       "    </tr>\n",
       "  </thead>\n",
       "  <tbody>\n",
       "    <tr>\n",
       "      <th>103</th>\n",
       "      <td>204158</td>\n",
       "      <td>35</td>\n",
       "      <td>1</td>\n",
       "      <td>13</td>\n",
       "      <td>21</td>\n",
       "      <td>2017-11-06 15:41:07</td>\n",
       "      <td>2017-11-07 08:17:19</td>\n",
       "      <td>1</td>\n",
       "      <td>2017-11-06</td>\n",
       "      <td>15:41:07</td>\n",
       "      <td>2017-11-07</td>\n",
       "      <td>Monday</td>\n",
       "      <td>15</td>\n",
       "    </tr>\n",
       "    <tr>\n",
       "      <th>1504</th>\n",
       "      <td>29692</td>\n",
       "      <td>9</td>\n",
       "      <td>1</td>\n",
       "      <td>22</td>\n",
       "      <td>215</td>\n",
       "      <td>2017-11-06 16:00:02</td>\n",
       "      <td>2017-11-07 10:05:22</td>\n",
       "      <td>1</td>\n",
       "      <td>2017-11-06</td>\n",
       "      <td>16:00:02</td>\n",
       "      <td>2017-11-07</td>\n",
       "      <td>Monday</td>\n",
       "      <td>16</td>\n",
       "    </tr>\n",
       "    <tr>\n",
       "      <th>1798</th>\n",
       "      <td>64516</td>\n",
       "      <td>35</td>\n",
       "      <td>1</td>\n",
       "      <td>13</td>\n",
       "      <td>21</td>\n",
       "      <td>2017-11-06 16:00:02</td>\n",
       "      <td>2017-11-06 23:40:50</td>\n",
       "      <td>1</td>\n",
       "      <td>2017-11-06</td>\n",
       "      <td>16:00:02</td>\n",
       "      <td>2017-11-06</td>\n",
       "      <td>Monday</td>\n",
       "      <td>16</td>\n",
       "    </tr>\n",
       "    <tr>\n",
       "      <th>2102</th>\n",
       "      <td>172429</td>\n",
       "      <td>35</td>\n",
       "      <td>1</td>\n",
       "      <td>46</td>\n",
       "      <td>274</td>\n",
       "      <td>2017-11-06 16:00:03</td>\n",
       "      <td>2017-11-07 00:55:29</td>\n",
       "      <td>1</td>\n",
       "      <td>2017-11-06</td>\n",
       "      <td>16:00:03</td>\n",
       "      <td>2017-11-07</td>\n",
       "      <td>Monday</td>\n",
       "      <td>16</td>\n",
       "    </tr>\n",
       "    <tr>\n",
       "      <th>3056</th>\n",
       "      <td>199085</td>\n",
       "      <td>35</td>\n",
       "      <td>1</td>\n",
       "      <td>13</td>\n",
       "      <td>274</td>\n",
       "      <td>2017-11-06 16:00:04</td>\n",
       "      <td>2017-11-06 23:04:54</td>\n",
       "      <td>1</td>\n",
       "      <td>2017-11-06</td>\n",
       "      <td>16:00:04</td>\n",
       "      <td>2017-11-06</td>\n",
       "      <td>Monday</td>\n",
       "      <td>16</td>\n",
       "    </tr>\n",
       "  </tbody>\n",
       "</table>\n",
       "</div>"
      ],
      "text/plain": [
       "          ip  app  device  os  channel           click_time  \\\n",
       "103   204158   35       1  13       21  2017-11-06 15:41:07   \n",
       "1504   29692    9       1  22      215  2017-11-06 16:00:02   \n",
       "1798   64516   35       1  13       21  2017-11-06 16:00:02   \n",
       "2102  172429   35       1  46      274  2017-11-06 16:00:03   \n",
       "3056  199085   35       1  13      274  2017-11-06 16:00:04   \n",
       "\n",
       "          attributed_time  is_attributed        date      time      a_date  \\\n",
       "103   2017-11-07 08:17:19              1  2017-11-06  15:41:07  2017-11-07   \n",
       "1504  2017-11-07 10:05:22              1  2017-11-06  16:00:02  2017-11-07   \n",
       "1798  2017-11-06 23:40:50              1  2017-11-06  16:00:02  2017-11-06   \n",
       "2102  2017-11-07 00:55:29              1  2017-11-06  16:00:03  2017-11-07   \n",
       "3056  2017-11-06 23:04:54              1  2017-11-06  16:00:04  2017-11-06   \n",
       "\n",
       "        down hour  \n",
       "103   Monday   15  \n",
       "1504  Monday   16  \n",
       "1798  Monday   16  \n",
       "2102  Monday   16  \n",
       "3056  Monday   16  "
      ]
     },
     "execution_count": 84,
     "metadata": {},
     "output_type": "execute_result"
    }
   ],
   "source": [
    "all_sample_data.head()"
   ]
  },
  {
   "cell_type": "code",
   "execution_count": 85,
   "metadata": {
    "collapsed": true
   },
   "outputs": [],
   "source": [
    "all_sample_data_df=all_sample_data.drop(['click_time','attributed_time','time','date','a_date'],axis=1).compute()"
   ]
  },
  {
   "cell_type": "code",
   "execution_count": 87,
   "metadata": {
    "collapsed": true
   },
   "outputs": [],
   "source": [
    "all_sample_data_df.to_csv('all_sample_data.csv', index=False)"
   ]
  },
  {
   "cell_type": "code",
   "execution_count": 34,
   "metadata": {
    "collapsed": true
   },
   "outputs": [],
   "source": [
    "all_sample_data_df = pd.read_csv('all_sample_data.csv')"
   ]
  },
  {
   "cell_type": "code",
   "execution_count": null,
   "metadata": {
    "collapsed": true
   },
   "outputs": [],
   "source": []
  },
  {
   "cell_type": "markdown",
   "metadata": {},
   "source": [
    "### Feature Engg"
   ]
  },
  {
   "cell_type": "code",
   "execution_count": null,
   "metadata": {
    "collapsed": true
   },
   "outputs": [],
   "source": [
    "# for hour, jobday, dow, street, cluster,\n",
    "def reg_target_encoding(train, y, cols):\n",
    "    train_new = train.copy()\n",
    "    skf = StratifiedKFold(4, shuffle=True, random_state=12)\n",
    "    for train_index, test_index in skf.split(train, y):\n",
    "        Xtr, Xval = train.iloc[train_index], train.iloc[test_index]\n",
    "        for col in cols:\n",
    "            means = Xval[col].map(Xtr.groupby(col).is_attributed.mean())\n",
    "            new_col_name='%s_mean_enc'%col\n",
    "            Xval[new_col_name]= means\n",
    "        train_new.iloc[test_index]= Xval\n",
    "    \n",
    "    \n",
    "    temp = train.groupby(col)[target].sum()\n",
    "    train[new_col_name]= train[col].map(temp)\n",
    "    test[new_col_name]= test[col].map(temp)\n",
    "    global_mean = train[target].sum()\n",
    "    train[new_col_name] = train[new_col_name].fillna(global_mean)\n",
    "    test[new_col_name] = test[new_col_name].fillna(global_mean)\n",
    "\n",
    "reg_target_encoding(parking_records_train,parking_records_test, col = \"dow\")\n",
    "reg_target_encoding(parking_records_train,parking_records_test, col = \"utuple\")\n",
    "reg_target_encoding(parking_records_train,parking_records_test, col = \"Street\")\n",
    "reg_target_encoding(parking_records_train,parking_records_test, col = \"hour\")\n",
    "reg_target_encoding(parking_records_train,parking_records_test, col = \"cluster_records\")"
   ]
  }
 ],
 "metadata": {
  "kernelspec": {
   "display_name": "Python 3",
   "language": "python",
   "name": "python3"
  },
  "language_info": {
   "codemirror_mode": {
    "name": "ipython",
    "version": 3
   },
   "file_extension": ".py",
   "mimetype": "text/x-python",
   "name": "python",
   "nbconvert_exporter": "python",
   "pygments_lexer": "ipython3",
   "version": "3.6.3"
  }
 },
 "nbformat": 4,
 "nbformat_minor": 2
}
